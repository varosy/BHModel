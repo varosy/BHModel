{
 "cells": [
  {
   "cell_type": "markdown",
   "metadata": {},
   "source": [
    "# Bose-Hubbard Model\n",
    "*****\n",
    "The Bose-Hubbard Hamiltonian is given by: $$\\hat{H}=-J\\sum_{\\langle i,j\\rangle}\\left(\\hat{b}_{i}^\\dagger\\hat{b}_{j}+\\hat{b}_{i}\\hat{b}_{j}^\\dagger\\right)+\\frac{U}{2}\\sum_{i} \\hat{n}_i\\left(\\hat{n}_i-\\hat{I}\\right)+V\\sum_{\\langle i,j\\rangle}\\hat{n}_i\\hat{n}_j-\\mu\\sum_{i}\\hat{n}_i \\$$"
   ]
  },
  {
   "cell_type": "code",
   "execution_count": 1,
   "metadata": {},
   "outputs": [],
   "source": [
    "import matplotlib.pyplot as plt\n",
    "import numpy as np\n",
    "from qutip import *"
   ]
  },
  {
   "cell_type": "markdown",
   "metadata": {},
   "source": [
    "Suppose we have two wells and one total particle in the system. Try computing the Hamiltonian for this system with $V = 0$."
   ]
  },
  {
   "cell_type": "code",
   "execution_count": 3,
   "metadata": {},
   "outputs": [],
   "source": [
    "basis1 = basis(2,0)\n",
    "basis2 = basis(2,1)\n",
    "def creation(state,i):\n",
    "    "
   ]
  },
  {
   "cell_type": "code",
   "execution_count": null,
   "metadata": {},
   "outputs": [],
   "source": []
  }
 ],
 "metadata": {
  "kernelspec": {
   "display_name": "Python 3.7.3 64-bit ('base': conda)",
   "language": "python",
   "name": "python37364bitbaseconda2b2e490c45f6467bba876f9be8c47128"
  },
  "language_info": {
   "codemirror_mode": {
    "name": "ipython",
    "version": 3
   },
   "file_extension": ".py",
   "mimetype": "text/x-python",
   "name": "python",
   "nbconvert_exporter": "python",
   "pygments_lexer": "ipython3",
   "version": "3.7.3"
  }
 },
 "nbformat": 4,
 "nbformat_minor": 2
}
