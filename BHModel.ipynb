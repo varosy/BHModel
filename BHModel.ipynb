{
 "cells": [
  {
   "cell_type": "markdown",
   "metadata": {},
   "source": [
    "# Bose-Hubbard Model\n",
    "*****\n",
    "The Bose-Hubbard Hamiltonian is given by: $$\\hat{H}=-J\\sum_{\\langle i,j\\rangle}\\left(\\hat{b}_{i}^\\dagger\\hat{b}_{j}+\\hat{b}_{i}\\hat{b}_{j}^\\dagger\\right)+\\frac{U}{2}\\sum_{i} \\hat{n}_i\\left(\\hat{n}_i-\\hat{I}\\right)+V\\sum_{\\langle i,j\\rangle}\\hat{n}_i\\hat{n}_j-\\mu\\sum_{i}\\hat{n}_i \\$$"
   ]
  },
  {
   "cell_type": "code",
   "execution_count": 2,
   "metadata": {},
   "outputs": [],
   "source": [
    "import matplotlib.pyplot as plt\n",
    "import numpy as np\n",
    "from qutip import *"
   ]
  },
  {
   "cell_type": "code",
   "execution_count": 3,
   "metadata": {},
   "outputs": [
    {
     "data": {
      "text/latex": [
       "Quantum object: dims = [[3], [3]], shape = (3, 3), type = oper, isherm = True\\begin{equation*}\\left(\\begin{array}{*{11}c}0.0 & 0.0 & 0.0\\\\0.0 & 1.0 & 0.0\\\\0.0 & 0.0 & 2.0\\\\\\end{array}\\right)\\end{equation*}"
      ],
      "text/plain": [
       "Quantum object: dims = [[3], [3]], shape = (3, 3), type = oper, isherm = True\n",
       "Qobj data =\n",
       "[[0. 0. 0.]\n",
       " [0. 1. 0.]\n",
       " [0. 0. 2.]]"
      ]
     },
     "execution_count": 3,
     "metadata": {},
     "output_type": "execute_result"
    }
   ],
   "source": [
    "basis1 = basis(2,0)\n",
    "basis2 = basis(2,1)\n",
    "def number(N):\n",
    "    return(create(N)*destroy(N))\n",
    "number(3)"
   ]
  },
  {
   "cell_type": "raw",
   "metadata": {},
   "source": [
    "def NearestNeighbor(Sites):\n",
    "    l=[]\n",
    "    for i in range(Sites):\n",
    "        for k in range(2):\n",
    "            l1=[]\n",
    "            l1.append(i)\n",
    "            l1.append((i-1)+2*k)\n",
    "            l.append(l1)\n",
    "    l.remove(l[2*Sites-1])\n",
    "    l.remove(l[0])\n",
    "    return(l)"
   ]
  },
  {
   "cell_type": "code",
   "execution_count": 4,
   "metadata": {},
   "outputs": [
    {
     "data": {
      "text/latex": [
       "Quantum object: dims = [[4], [4]], shape = (4, 4), type = oper, isherm = False\\begin{equation*}\\left(\\begin{array}{*{11}c}0.0 & 1.0 & 0.0 & 0.0\\\\0.0 & 0.0 & 1.414 & 0.0\\\\0.0 & 0.0 & 0.0 & 1.732\\\\0.0 & 0.0 & 0.0 & 0.0\\\\\\end{array}\\right)\\end{equation*}"
      ],
      "text/plain": [
       "Quantum object: dims = [[4], [4]], shape = (4, 4), type = oper, isherm = False\n",
       "Qobj data =\n",
       "[[0.         1.         0.         0.        ]\n",
       " [0.         0.         1.41421356 0.        ]\n",
       " [0.         0.         0.         1.73205081]\n",
       " [0.         0.         0.         0.        ]]"
      ]
     },
     "execution_count": 4,
     "metadata": {},
     "output_type": "execute_result"
    }
   ],
   "source": [
    "def ldestroy(N,Sites,Particles):\n",
    "    l=[]\n",
    "    for i in range(N):\n",
    "        l.append(identity(Particles+1))\n",
    "    l.append(destroy(Particles+1))\n",
    "    for i in range(Sites-N-1):\n",
    "        l.append(identity(Particles+1))\n",
    "    if len(l) == 1:\n",
    "        s=l[0]\n",
    "    elif len(l) > 1:\n",
    "        s=l[0]\n",
    "        a=0\n",
    "        ints=[]\n",
    "        for i in range(len(l)-1):\n",
    "            s=tensor(s,l[i+1])\n",
    "            ints.append(s)\n",
    "    return(s)\n",
    "    \n",
    "ldestroy(0,1,3)"
   ]
  },
  {
   "cell_type": "code",
   "execution_count": 5,
   "metadata": {},
   "outputs": [],
   "source": [
    "def lcreate(N,Sites,Particles):\n",
    "    return(ldestroy(N,Sites,Particles).dag())"
   ]
  },
  {
   "cell_type": "code",
   "execution_count": 6,
   "metadata": {},
   "outputs": [],
   "source": [
    "alphabetdictionary = {'A':10,'B':11,'C':12,'D':13,'E':14,'F':15,'G':16,'H':17,'I':18,'J':19,'K':20,'L':21,'M':22,'N':23,'O':24,'P':25,'Q':26,'R':27,'S':28,'T':29,'U':30,'V':31,'W':32,'X':33,'Y':34,'Z':35}"
   ]
  },
  {
   "cell_type": "code",
   "execution_count": 21,
   "metadata": {},
   "outputs": [
    {
     "data": {
      "text/plain": [
       "[0, 1, 1, 2, 1, 2, 2, 3]"
      ]
     },
     "execution_count": 21,
     "metadata": {},
     "output_type": "execute_result"
    }
   ],
   "source": [
    "def particlecount(Hildim,MaxParticles):\n",
    "    particles=[]\n",
    "    for i in range(Hildim):\n",
    "        binaryn = np.base_repr(i,MaxParticles+1)\n",
    "        totalnumber=0\n",
    "        for j in binaryn:\n",
    "            try:\n",
    "                int(j)\n",
    "                totalnumber+=int(j)\n",
    "            except ValueError:\n",
    "                j = alphabetdictionary[str(j)]\n",
    "                totalnumber+=int(j)\n",
    "        particles.append(totalnumber)\n",
    "    return(particles)\n",
    "\n",
    "particlecount(8,1)"
   ]
  },
  {
   "cell_type": "raw",
   "metadata": {},
   "source": [
    "def BHHamOLD(Sites,Particles,J=1,U=2,V=0,mu=1):\n",
    "    def a(Location):\n",
    "        return(ldestroy(Location,Sites,Particles))\n",
    "    def adag(Location):\n",
    "        return(lcreate(Location,Sites,Particles))\n",
    "    def n(Location):\n",
    "        return(lcreate(Location,Sites,Particles)*ldestroy(Location,Sites,Particles))\n",
    "    sum1=0\n",
    "    sum2=0\n",
    "    sum3=0\n",
    "    sum4=0\n",
    "    NN = NearestNeighbor(Sites)\n",
    "    for i in range(len(NN)):\n",
    "        sum1 += adag(NN[i][0])*a(NN[i][1]) + a(NN[i][0])*adag(NN[i][1])\n",
    "    for i in range(Sites):\n",
    "        sum2 += Qobj(n(i).data*(n(i).data-identity(n(i).shape[0]).data))\n",
    "    for i in range(len(NN)):\n",
    "        sum3 += n(NN[i][0])*n(NN[i][1])\n",
    "    for i in range(Sites):\n",
    "        sum4 += n(i)\n",
    "    H = Qobj(-J/2*sum1.data + U/2*sum2.data + V/2*sum3.data - mu*sum4.data)\n",
    "    return(H)"
   ]
  },
  {
   "cell_type": "code",
   "execution_count": 26,
   "metadata": {
    "scrolled": true
   },
   "outputs": [
    {
     "data": {
      "text/latex": [
       "Quantum object: dims = [[16], [16]], shape = (16, 16), type = oper, isherm = True\\begin{equation*}\\left(\\begin{array}{*{11}c}0.0 & 0.0 & 0.0 & 0.0 & 0.0 & \\cdots & 0.0 & 0.0 & 0.0 & 0.0 & 0.0\\\\0.0 & -1.0 & 0.0 & 0.0 & -1.0 & \\cdots & 0.0 & 0.0 & 0.0 & 0.0 & 0.0\\\\0.0 & 0.0 & -1.000 & 0.0 & 0.0 & \\cdots & 0.0 & 0.0 & 0.0 & 0.0 & 0.0\\\\0.0 & 0.0 & 0.0 & -4.441\\times10^{-16} & 0.0 & \\cdots & 0.0 & 0.0 & 0.0 & 0.0 & 0.0\\\\0.0 & -1.0 & 0.0 & 0.0 & -1.0 & \\cdots & 0.0 & 0.0 & 0.0 & 0.0 & 0.0\\\\\\vdots & \\vdots & \\vdots & \\vdots & \\vdots & \\ddots & \\vdots & \\vdots & \\vdots & \\vdots & \\vdots\\\\0.0 & 0.0 & 0.0 & 0.0 & 0.0 & \\cdots & 5.0 & 0.0 & 0.0 & -3.000 & 0.0\\\\0.0 & 0.0 & 0.0 & 0.0 & 0.0 & \\cdots & 0.0 & -4.441\\times10^{-16} & 0.0 & 0.0 & 0.0\\\\0.0 & 0.0 & 0.0 & 0.0 & 0.0 & \\cdots & 0.0 & 0.0 & 2.000 & 0.0 & 0.0\\\\0.0 & 0.0 & 0.0 & 0.0 & 0.0 & \\cdots & -3.000 & 0.0 & 0.0 & 5.0 & 0.0\\\\0.0 & 0.0 & 0.0 & 0.0 & 0.0 & \\cdots & 0.0 & 0.0 & 0.0 & 0.0 & 9.000\\\\\\end{array}\\right)\\end{equation*}"
      ],
      "text/plain": [
       "Quantum object: dims = [[16], [16]], shape = (16, 16), type = oper, isherm = True\n",
       "Qobj data =\n",
       "[[ 0.00000000e+00  0.00000000e+00  0.00000000e+00  0.00000000e+00\n",
       "   0.00000000e+00  0.00000000e+00  0.00000000e+00  0.00000000e+00\n",
       "   0.00000000e+00  0.00000000e+00  0.00000000e+00  0.00000000e+00\n",
       "   0.00000000e+00  0.00000000e+00  0.00000000e+00  0.00000000e+00]\n",
       " [ 0.00000000e+00 -1.00000000e+00  0.00000000e+00  0.00000000e+00\n",
       "  -1.00000000e+00  0.00000000e+00  0.00000000e+00  0.00000000e+00\n",
       "   0.00000000e+00  0.00000000e+00  0.00000000e+00  0.00000000e+00\n",
       "   0.00000000e+00  0.00000000e+00  0.00000000e+00  0.00000000e+00]\n",
       " [ 0.00000000e+00  0.00000000e+00 -1.00000000e+00  0.00000000e+00\n",
       "   0.00000000e+00 -1.41421356e+00  0.00000000e+00  0.00000000e+00\n",
       "   0.00000000e+00  0.00000000e+00  0.00000000e+00  0.00000000e+00\n",
       "   0.00000000e+00  0.00000000e+00  0.00000000e+00  0.00000000e+00]\n",
       " [ 0.00000000e+00  0.00000000e+00  0.00000000e+00 -4.44089210e-16\n",
       "   0.00000000e+00  0.00000000e+00 -1.73205081e+00  0.00000000e+00\n",
       "   0.00000000e+00  0.00000000e+00  0.00000000e+00  0.00000000e+00\n",
       "   0.00000000e+00  0.00000000e+00  0.00000000e+00  0.00000000e+00]\n",
       " [ 0.00000000e+00 -1.00000000e+00  0.00000000e+00  0.00000000e+00\n",
       "  -1.00000000e+00  0.00000000e+00  0.00000000e+00  0.00000000e+00\n",
       "   0.00000000e+00  0.00000000e+00  0.00000000e+00  0.00000000e+00\n",
       "   0.00000000e+00  0.00000000e+00  0.00000000e+00  0.00000000e+00]\n",
       " [ 0.00000000e+00  0.00000000e+00 -1.41421356e+00  0.00000000e+00\n",
       "   0.00000000e+00 -1.00000000e+00  0.00000000e+00  0.00000000e+00\n",
       "  -1.41421356e+00  0.00000000e+00  0.00000000e+00  0.00000000e+00\n",
       "   0.00000000e+00  0.00000000e+00  0.00000000e+00  0.00000000e+00]\n",
       " [ 0.00000000e+00  0.00000000e+00  0.00000000e+00 -1.73205081e+00\n",
       "   0.00000000e+00  0.00000000e+00  4.44089210e-16  0.00000000e+00\n",
       "   0.00000000e+00 -2.00000000e+00  0.00000000e+00  0.00000000e+00\n",
       "   0.00000000e+00  0.00000000e+00  0.00000000e+00  0.00000000e+00]\n",
       " [ 0.00000000e+00  0.00000000e+00  0.00000000e+00  0.00000000e+00\n",
       "   0.00000000e+00  0.00000000e+00  0.00000000e+00  2.00000000e+00\n",
       "   0.00000000e+00  0.00000000e+00 -2.44948974e+00  0.00000000e+00\n",
       "   0.00000000e+00  0.00000000e+00  0.00000000e+00  0.00000000e+00]\n",
       " [ 0.00000000e+00  0.00000000e+00  0.00000000e+00  0.00000000e+00\n",
       "   0.00000000e+00 -1.41421356e+00  0.00000000e+00  0.00000000e+00\n",
       "  -1.00000000e+00  0.00000000e+00  0.00000000e+00  0.00000000e+00\n",
       "   0.00000000e+00  0.00000000e+00  0.00000000e+00  0.00000000e+00]\n",
       " [ 0.00000000e+00  0.00000000e+00  0.00000000e+00  0.00000000e+00\n",
       "   0.00000000e+00  0.00000000e+00 -2.00000000e+00  0.00000000e+00\n",
       "   0.00000000e+00  4.44089210e-16  0.00000000e+00  0.00000000e+00\n",
       "  -1.73205081e+00  0.00000000e+00  0.00000000e+00  0.00000000e+00]\n",
       " [ 0.00000000e+00  0.00000000e+00  0.00000000e+00  0.00000000e+00\n",
       "   0.00000000e+00  0.00000000e+00  0.00000000e+00 -2.44948974e+00\n",
       "   0.00000000e+00  0.00000000e+00  2.00000000e+00  0.00000000e+00\n",
       "   0.00000000e+00 -2.44948974e+00  0.00000000e+00  0.00000000e+00]\n",
       " [ 0.00000000e+00  0.00000000e+00  0.00000000e+00  0.00000000e+00\n",
       "   0.00000000e+00  0.00000000e+00  0.00000000e+00  0.00000000e+00\n",
       "   0.00000000e+00  0.00000000e+00  0.00000000e+00  5.00000000e+00\n",
       "   0.00000000e+00  0.00000000e+00 -3.00000000e+00  0.00000000e+00]\n",
       " [ 0.00000000e+00  0.00000000e+00  0.00000000e+00  0.00000000e+00\n",
       "   0.00000000e+00  0.00000000e+00  0.00000000e+00  0.00000000e+00\n",
       "   0.00000000e+00 -1.73205081e+00  0.00000000e+00  0.00000000e+00\n",
       "  -4.44089210e-16  0.00000000e+00  0.00000000e+00  0.00000000e+00]\n",
       " [ 0.00000000e+00  0.00000000e+00  0.00000000e+00  0.00000000e+00\n",
       "   0.00000000e+00  0.00000000e+00  0.00000000e+00  0.00000000e+00\n",
       "   0.00000000e+00  0.00000000e+00 -2.44948974e+00  0.00000000e+00\n",
       "   0.00000000e+00  2.00000000e+00  0.00000000e+00  0.00000000e+00]\n",
       " [ 0.00000000e+00  0.00000000e+00  0.00000000e+00  0.00000000e+00\n",
       "   0.00000000e+00  0.00000000e+00  0.00000000e+00  0.00000000e+00\n",
       "   0.00000000e+00  0.00000000e+00  0.00000000e+00 -3.00000000e+00\n",
       "   0.00000000e+00  0.00000000e+00  5.00000000e+00  0.00000000e+00]\n",
       " [ 0.00000000e+00  0.00000000e+00  0.00000000e+00  0.00000000e+00\n",
       "   0.00000000e+00  0.00000000e+00  0.00000000e+00  0.00000000e+00\n",
       "   0.00000000e+00  0.00000000e+00  0.00000000e+00  0.00000000e+00\n",
       "   0.00000000e+00  0.00000000e+00  0.00000000e+00  9.00000000e+00]]"
      ]
     },
     "execution_count": 26,
     "metadata": {},
     "output_type": "execute_result"
    }
   ],
   "source": [
    "def BHHam(Sites,MaxParticles,particleconserving=False,J=1,U=2,V=0,mu=1):\n",
    "    def a(Location):\n",
    "        return(ldestroy(Location,Sites,MaxParticles))\n",
    "    def adag(Location):\n",
    "        return(lcreate(Location,Sites,MaxParticles))\n",
    "    def n(Location):\n",
    "        return(lcreate(Location,Sites,MaxParticles)*ldestroy(Location,Sites,MaxParticles))\n",
    "    sum1=0\n",
    "    sum2=0\n",
    "    sum3=0\n",
    "    sum4=0\n",
    "    for i in range(Sites-1):\n",
    "        sum1 += adag(i)*a(i+1) + a(i)*adag(i+1)\n",
    "    for i in range(Sites):\n",
    "        sum2 += Qobj(n(i).data*(n(i).data-identity(n(i).shape[0]).data))\n",
    "    for i in range(Sites-1):\n",
    "        sum3 += n(i)*n(i+1)\n",
    "    for i in range(Sites):\n",
    "        sum4 += n(i)\n",
    "    if sum1 == 0:\n",
    "        sum1 = Qobj(np.zeros(sum2.shape))\n",
    "    if sum3 == 0:\n",
    "        sum3 = Qobj(np.zeros(sum2.shape))\n",
    "    H = Qobj(-J*sum1.data + U/2*sum2.data + V*sum3.data - mu*sum4.data)\n",
    "    ##This below describes what happens if we want the space to be total particle conserving\n",
    "    if particleconserving==True:\n",
    "        removecolumn=[]\n",
    "        H = H.full()\n",
    "        for i in particlecount((MaxParticles+1)**Sites,MaxParticles):\n",
    "            if i==MaxParticles:\n",
    "                removecolumn.append(0)\n",
    "            else:\n",
    "                removecolumn.append(1)\n",
    "        for i in range(len(removecolumn)-1,-1,-1): #This iterates backwards to easily remove columns\n",
    "            if removecolumn[i]==1:\n",
    "                H=np.delete(H,i,0)\n",
    "                H=np.delete(H,i,1)\n",
    "        H = Qobj(H)    \n",
    "    return(H)\n",
    "\n",
    "BHHam(2,3,False,1,1,1,1)"
   ]
  },
  {
   "cell_type": "code",
   "execution_count": 54,
   "metadata": {},
   "outputs": [
    {
     "data": {
      "text/latex": [
       "Quantum object: dims = [[15], [15]], shape = (15, 15), type = oper, isherm = True\\begin{equation*}\\left(\\begin{array}{*{11}c}8.0 & -2.0 & 0.0 & 0.0 & 0.0 & \\cdots & 0.0 & 0.0 & 0.0 & 0.0 & 0.0\\\\-2.0 & 2.000 & -2.449 & 0.0 & 0.0 & \\cdots & 0.0 & 0.0 & 0.0 & 0.0 & 0.0\\\\0.0 & -2.449 & 1.776\\times10^{-15} & -2.449 & 0.0 & \\cdots & 0.0 & 0.0 & 0.0 & 0.0 & 0.0\\\\0.0 & 0.0 & -2.449 & 2.000 & -2.0 & \\cdots & 0.0 & 0.0 & 0.0 & 0.0 & 0.0\\\\0.0 & 0.0 & 0.0 & -2.0 & 8.0 & \\cdots & 0.0 & 0.0 & 0.0 & 0.0 & 0.0\\\\\\vdots & \\vdots & \\vdots & \\vdots & \\vdots & \\ddots & \\vdots & \\vdots & \\vdots & \\vdots & \\vdots\\\\0.0 & 0.0 & 0.0 & 0.0 & 0.0 & \\cdots & -2.000 & -1.414 & -1.732 & 0.0 & 0.0\\\\0.0 & 0.0 & 0.0 & 0.0 & 0.0 & \\cdots & -1.414 & 1.776\\times10^{-15} & 0.0 & -2.449 & 0.0\\\\0.0 & 0.0 & 0.0 & 0.0 & 0.0 & \\cdots & -1.732 & 0.0 & 2.000 & -1.0 & 0.0\\\\0.0 & 0.0 & 0.0 & 0.0 & 0.0 & \\cdots & 0.0 & -2.449 & -1.0 & 2.000 & -2.0\\\\0.0 & 0.0 & 0.0 & 0.0 & 0.0 & \\cdots & 0.0 & 0.0 & 0.0 & -2.0 & 8.0\\\\\\end{array}\\right)\\end{equation*}"
      ],
      "text/plain": [
       "Quantum object: dims = [[15], [15]], shape = (15, 15), type = oper, isherm = True\n",
       "Qobj data =\n",
       "[[ 8.00000000e+00 -2.00000000e+00  0.00000000e+00  0.00000000e+00\n",
       "   0.00000000e+00  0.00000000e+00  0.00000000e+00  0.00000000e+00\n",
       "   0.00000000e+00  0.00000000e+00  0.00000000e+00  0.00000000e+00\n",
       "   0.00000000e+00  0.00000000e+00  0.00000000e+00]\n",
       " [-2.00000000e+00  2.00000000e+00 -2.44948974e+00  0.00000000e+00\n",
       "   0.00000000e+00 -1.00000000e+00  0.00000000e+00  0.00000000e+00\n",
       "   0.00000000e+00  0.00000000e+00  0.00000000e+00  0.00000000e+00\n",
       "   0.00000000e+00  0.00000000e+00  0.00000000e+00]\n",
       " [ 0.00000000e+00 -2.44948974e+00  1.77635684e-15 -2.44948974e+00\n",
       "   0.00000000e+00  0.00000000e+00 -1.41421356e+00  0.00000000e+00\n",
       "   0.00000000e+00  0.00000000e+00  0.00000000e+00  0.00000000e+00\n",
       "   0.00000000e+00  0.00000000e+00  0.00000000e+00]\n",
       " [ 0.00000000e+00  0.00000000e+00 -2.44948974e+00  2.00000000e+00\n",
       "  -2.00000000e+00  0.00000000e+00  0.00000000e+00 -1.73205081e+00\n",
       "   0.00000000e+00  0.00000000e+00  0.00000000e+00  0.00000000e+00\n",
       "   0.00000000e+00  0.00000000e+00  0.00000000e+00]\n",
       " [ 0.00000000e+00  0.00000000e+00  0.00000000e+00 -2.00000000e+00\n",
       "   8.00000000e+00  0.00000000e+00  0.00000000e+00  0.00000000e+00\n",
       "  -2.00000000e+00  0.00000000e+00  0.00000000e+00  0.00000000e+00\n",
       "   0.00000000e+00  0.00000000e+00  0.00000000e+00]\n",
       " [ 0.00000000e+00 -1.00000000e+00  0.00000000e+00  0.00000000e+00\n",
       "   0.00000000e+00  2.00000000e+00 -1.73205081e+00  0.00000000e+00\n",
       "   0.00000000e+00  0.00000000e+00  0.00000000e+00  0.00000000e+00\n",
       "   0.00000000e+00  0.00000000e+00  0.00000000e+00]\n",
       " [ 0.00000000e+00  0.00000000e+00 -1.41421356e+00  0.00000000e+00\n",
       "   0.00000000e+00 -1.73205081e+00 -2.00000000e+00 -2.00000000e+00\n",
       "   0.00000000e+00 -1.41421356e+00  0.00000000e+00  0.00000000e+00\n",
       "   0.00000000e+00  0.00000000e+00  0.00000000e+00]\n",
       " [ 0.00000000e+00  0.00000000e+00  0.00000000e+00 -1.73205081e+00\n",
       "   0.00000000e+00  0.00000000e+00 -2.00000000e+00 -2.00000000e+00\n",
       "  -1.73205081e+00  0.00000000e+00 -2.00000000e+00  0.00000000e+00\n",
       "   0.00000000e+00  0.00000000e+00  0.00000000e+00]\n",
       " [ 0.00000000e+00  0.00000000e+00  0.00000000e+00  0.00000000e+00\n",
       "  -2.00000000e+00  0.00000000e+00  0.00000000e+00 -1.73205081e+00\n",
       "   2.00000000e+00  0.00000000e+00  0.00000000e+00 -2.44948974e+00\n",
       "   0.00000000e+00  0.00000000e+00  0.00000000e+00]\n",
       " [ 0.00000000e+00  0.00000000e+00  0.00000000e+00  0.00000000e+00\n",
       "   0.00000000e+00  0.00000000e+00 -1.41421356e+00  0.00000000e+00\n",
       "   0.00000000e+00  1.77635684e-15 -1.41421356e+00  0.00000000e+00\n",
       "   0.00000000e+00  0.00000000e+00  0.00000000e+00]\n",
       " [ 0.00000000e+00  0.00000000e+00  0.00000000e+00  0.00000000e+00\n",
       "   0.00000000e+00  0.00000000e+00  0.00000000e+00 -2.00000000e+00\n",
       "   0.00000000e+00 -1.41421356e+00 -2.00000000e+00 -1.41421356e+00\n",
       "  -1.73205081e+00  0.00000000e+00  0.00000000e+00]\n",
       " [ 0.00000000e+00  0.00000000e+00  0.00000000e+00  0.00000000e+00\n",
       "   0.00000000e+00  0.00000000e+00  0.00000000e+00  0.00000000e+00\n",
       "  -2.44948974e+00  0.00000000e+00 -1.41421356e+00  1.77635684e-15\n",
       "   0.00000000e+00 -2.44948974e+00  0.00000000e+00]\n",
       " [ 0.00000000e+00  0.00000000e+00  0.00000000e+00  0.00000000e+00\n",
       "   0.00000000e+00  0.00000000e+00  0.00000000e+00  0.00000000e+00\n",
       "   0.00000000e+00  0.00000000e+00 -1.73205081e+00  0.00000000e+00\n",
       "   2.00000000e+00 -1.00000000e+00  0.00000000e+00]\n",
       " [ 0.00000000e+00  0.00000000e+00  0.00000000e+00  0.00000000e+00\n",
       "   0.00000000e+00  0.00000000e+00  0.00000000e+00  0.00000000e+00\n",
       "   0.00000000e+00  0.00000000e+00  0.00000000e+00 -2.44948974e+00\n",
       "  -1.00000000e+00  2.00000000e+00 -2.00000000e+00]\n",
       " [ 0.00000000e+00  0.00000000e+00  0.00000000e+00  0.00000000e+00\n",
       "   0.00000000e+00  0.00000000e+00  0.00000000e+00  0.00000000e+00\n",
       "   0.00000000e+00  0.00000000e+00  0.00000000e+00  0.00000000e+00\n",
       "   0.00000000e+00 -2.00000000e+00  8.00000000e+00]]"
      ]
     },
     "execution_count": 54,
     "metadata": {},
     "output_type": "execute_result"
    }
   ],
   "source": [
    "H = BHHam(3,4,True)\n",
    "H"
   ]
  },
  {
   "cell_type": "code",
   "execution_count": null,
   "metadata": {
    "scrolled": true
   },
   "outputs": [],
   "source": [
    "H.eigenstates()"
   ]
  },
  {
   "cell_type": "markdown",
   "metadata": {},
   "source": [
    "# Part 6: Plotting  Eigenvalues"
   ]
  },
  {
   "cell_type": "code",
   "execution_count": 52,
   "metadata": {
    "scrolled": true
   },
   "outputs": [
    {
     "data": {
      "text/plain": [
       "<matplotlib.collections.PathCollection at 0x2739c3a0390>"
      ]
     },
     "execution_count": 52,
     "metadata": {},
     "output_type": "execute_result"
    },
    {
     "data": {
      "image/png": "[encoded data removed]",
      "text/plain": [
       "<Figure size 432x288 with 1 Axes>"
      ]
     },
     "metadata": {
      "needs_background": "light"
     },
     "output_type": "display_data"
    }
   ],
   "source": [
    "xdata=[]\n",
    "ydata=[]\n",
    "for N in range(1,8):\n",
    "    E = BHHam(2,N,True,1,2,0,1).eigenenergies()\n",
    "    for i in E:\n",
    "        xdata.append(N)\n",
    "        ydata.append(i)\n",
    "        \n",
    "plt.scatter(xdata,ydata)"
   ]
  },
  {
   "cell_type": "markdown",
   "metadata": {},
   "source": [
    "Take eigenvalues for different values of \n",
    "x-axis: number of particles in well\n",
    "y-axis: eigenvalues (Stacked on top of each other)"
   ]
  }
 ],
 "metadata": {
  "kernelspec": {
   "display_name": "Python 3",
   "language": "python",
   "name": "python3"
  },
  "language_info": {
   "codemirror_mode": {
    "name": "ipython",
    "version": 3
   },
   "file_extension": ".py",
   "mimetype": "text/x-python",
   "name": "python",
   "nbconvert_exporter": "python",
   "pygments_lexer": "ipython3",
   "version": "3.7.3"
  }
 },
 "nbformat": 4,
 "nbformat_minor": 2
}
