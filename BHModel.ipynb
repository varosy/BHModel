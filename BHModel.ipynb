{
 "cells": [
  {
   "cell_type": "markdown",
   "metadata": {},
   "source": [
    "# Bose-Hubbard Model\n",
    "*****\n",
    "The Bose-Hubbard Hamiltonian is given by: $$\\hat{H}=-J\\sum_{\\langle i,j\\rangle}\\left(\\hat{b}_{i}^\\dagger\\hat{b}_{j}+\\hat{b}_{i}\\hat{b}_{j}^\\dagger\\right)+\\frac{U}{2}\\sum_{i} \\hat{n}_i\\left(\\hat{n}_i-\\hat{I}\\right)+V\\sum_{\\langle i,j\\rangle}\\hat{n}_i\\hat{n}_j-\\mu\\sum_{i}\\hat{n}_i \\$$"
   ]
  },
  {
   "cell_type": "code",
   "execution_count": 3,
   "metadata": {},
   "outputs": [],
   "source": [
    "import matplotlib.pyplot as plt\n",
    "import numpy as np\n",
    "from qutip import *"
   ]
  },
  {
   "cell_type": "code",
   "execution_count": 4,
   "metadata": {},
   "outputs": [
    {
     "data": {
      "text/latex": "Quantum object: dims = [[3], [3]], shape = (3, 3), type = oper, isherm = True\\begin{equation*}\\left(\\begin{array}{*{11}c}0.0 & 0.0 & 0.0\\\\0.0 & 1.0 & 0.0\\\\0.0 & 0.0 & 2.0\\\\\\end{array}\\right)\\end{equation*}",
      "text/plain": "Quantum object: dims = [[3], [3]], shape = (3, 3), type = oper, isherm = True\nQobj data =\n[[0. 0. 0.]\n [0. 1. 0.]\n [0. 0. 2.]]"
     },
     "execution_count": 4,
     "metadata": {},
     "output_type": "execute_result"
    }
   ],
   "source": [
    "basis1 = basis(2,0)\n",
    "basis2 = basis(2,1)\n",
    "def number(N):\n",
    "    return(create(N)*destroy(N))\n",
    "number(3)"
   ]
  },
  {
   "cell_type": "raw",
   "metadata": {},
   "source": [
    "def NearestNeighbor(Sites):\n",
    "    l=[]\n",
    "    for i in range(Sites):\n",
    "        for k in range(2):\n",
    "            l1=[]\n",
    "            l1.append(i)\n",
    "            l1.append((i-1)+2*k)\n",
    "            l.append(l1)\n",
    "    l.remove(l[2*Sites-1])\n",
    "    l.remove(l[0])\n",
    "    return(l)"
   ]
  },
  {
   "cell_type": "code",
   "execution_count": 5,
   "metadata": {},
   "outputs": [
    {
     "data": {
      "text/latex": "Quantum object: dims = [[4], [4]], shape = (4, 4), type = oper, isherm = False\\begin{equation*}\\left(\\begin{array}{*{11}c}0.0 & 1.0 & 0.0 & 0.0\\\\0.0 & 0.0 & 1.414 & 0.0\\\\0.0 & 0.0 & 0.0 & 1.732\\\\0.0 & 0.0 & 0.0 & 0.0\\\\\\end{array}\\right)\\end{equation*}",
      "text/plain": "Quantum object: dims = [[4], [4]], shape = (4, 4), type = oper, isherm = False\nQobj data =\n[[0.         1.         0.         0.        ]\n [0.         0.         1.41421356 0.        ]\n [0.         0.         0.         1.73205081]\n [0.         0.         0.         0.        ]]"
     },
     "execution_count": 5,
     "metadata": {},
     "output_type": "execute_result"
    }
   ],
   "source": [
    "def ldestroy(N,Sites,Particles):\n",
    "    l=[]\n",
    "    for i in range(N):\n",
    "        l.append(identity(Particles+1))\n",
    "    l.append(destroy(Particles+1))\n",
    "    for i in range(Sites-N-1):\n",
    "        l.append(identity(Particles+1))\n",
    "    if len(l) == 1:\n",
    "        s=l[0]\n",
    "    elif len(l) > 1:\n",
    "        s=l[0]\n",
    "        a=0\n",
    "        ints=[]\n",
    "        for i in range(len(l)-1):\n",
    "            s=tensor(s,l[i+1])\n",
    "            ints.append(s)\n",
    "    return(s)\n",
    "    \n",
    "ldestroy(0,1,3)"
   ]
  },
  {
   "cell_type": "code",
   "execution_count": 6,
   "metadata": {},
   "outputs": [],
   "source": [
    "def lcreate(N,Sites,Particles):\n",
    "    return(ldestroy(N,Sites,Particles).dag())"
   ]
  },
  {
   "cell_type": "code",
   "execution_count": 7,
   "metadata": {},
   "outputs": [],
   "source": [
    "alphabetdictionary = {'A':10,'B':11,'C':12,'D':13,'E':14,'F':15,'G':16,'H':17,'I':18,'J':19,'K':20,'L':21,'M':22,'N':23,'O':24,'P':25,'Q':26,'R':27,'S':28,'T':29,'U':30,'V':31,'W':32,'X':33,'Y':34,'Z':35}"
   ]
  },
  {
   "cell_type": "code",
   "execution_count": 8,
   "metadata": {},
   "outputs": [
    {
     "data": {
      "text/plain": "[0, 1, 1, 2, 1, 2, 2, 3]"
     },
     "execution_count": 8,
     "metadata": {},
     "output_type": "execute_result"
    }
   ],
   "source": [
    "def particlecount(Hildim,MaxParticles):\n",
    "    particles=[]\n",
    "    for i in range(Hildim):\n",
    "        binaryn = np.base_repr(i,MaxParticles+1)\n",
    "        totalnumber=0\n",
    "        for j in binaryn:\n",
    "            try:\n",
    "                int(j)\n",
    "                totalnumber+=int(j)\n",
    "            except ValueError:\n",
    "                j = alphabetdictionary[str(j)]\n",
    "                totalnumber+=int(j)\n",
    "        particles.append(totalnumber)\n",
    "    return(particles)\n",
    "\n",
    "particlecount(8,1)"
   ]
  },
  {
   "cell_type": "raw",
   "metadata": {},
   "source": [
    "def BHHamOLD(Sites,Particles,J=1,U=2,V=0,mu=1):\n",
    "    def a(Location):\n",
    "        return(ldestroy(Location,Sites,Particles))\n",
    "    def adag(Location):\n",
    "        return(lcreate(Location,Sites,Particles))\n",
    "    def n(Location):\n",
    "        return(lcreate(Location,Sites,Particles)*ldestroy(Location,Sites,Particles))\n",
    "    sum1=0\n",
    "    sum2=0\n",
    "    sum3=0\n",
    "    sum4=0\n",
    "    NN = NearestNeighbor(Sites)\n",
    "    for i in range(len(NN)):\n",
    "        sum1 += adag(NN[i][0])*a(NN[i][1]) + a(NN[i][0])*adag(NN[i][1])\n",
    "    for i in range(Sites):\n",
    "        sum2 += Qobj(n(i).data*(n(i).data-identity(n(i).shape[0]).data))\n",
    "    for i in range(len(NN)):\n",
    "        sum3 += n(NN[i][0])*n(NN[i][1])\n",
    "    for i in range(Sites):\n",
    "        sum4 += n(i)\n",
    "    H = Qobj(-J/2*sum1.data + U/2*sum2.data + V/2*sum3.data - mu*sum4.data)\n",
    "    return(H)"
   ]
  },
  {
   "cell_type": "code",
   "execution_count": 9,
   "metadata": {},
   "outputs": [
    {
     "data": {
      "text/latex": "Quantum object: dims = [[16], [16]], shape = (16, 16), type = oper, isherm = True\\begin{equation*}\\left(\\begin{array}{*{11}c}0.0 & 0.0 & 0.0 & 0.0 & 0.0 & \\cdots & 0.0 & 0.0 & 0.0 & 0.0 & 0.0\\\\0.0 & -1.0 & 0.0 & 0.0 & -1.0 & \\cdots & 0.0 & 0.0 & 0.0 & 0.0 & 0.0\\\\0.0 & 0.0 & -1.000 & 0.0 & 0.0 & \\cdots & 0.0 & 0.0 & 0.0 & 0.0 & 0.0\\\\0.0 & 0.0 & 0.0 & -4.441\\times10^{-16} & 0.0 & \\cdots & 0.0 & 0.0 & 0.0 & 0.0 & 0.0\\\\0.0 & -1.0 & 0.0 & 0.0 & -1.0 & \\cdots & 0.0 & 0.0 & 0.0 & 0.0 & 0.0\\\\\\vdots & \\vdots & \\vdots & \\vdots & \\vdots & \\ddots & \\vdots & \\vdots & \\vdots & \\vdots & \\vdots\\\\0.0 & 0.0 & 0.0 & 0.0 & 0.0 & \\cdots & 5.0 & 0.0 & 0.0 & -3.000 & 0.0\\\\0.0 & 0.0 & 0.0 & 0.0 & 0.0 & \\cdots & 0.0 & -4.441\\times10^{-16} & 0.0 & 0.0 & 0.0\\\\0.0 & 0.0 & 0.0 & 0.0 & 0.0 & \\cdots & 0.0 & 0.0 & 2.000 & 0.0 & 0.0\\\\0.0 & 0.0 & 0.0 & 0.0 & 0.0 & \\cdots & -3.000 & 0.0 & 0.0 & 5.0 & 0.0\\\\0.0 & 0.0 & 0.0 & 0.0 & 0.0 & \\cdots & 0.0 & 0.0 & 0.0 & 0.0 & 9.000\\\\\\end{array}\\right)\\end{equation*}",
      "text/plain": "Quantum object: dims = [[16], [16]], shape = (16, 16), type = oper, isherm = True\nQobj data =\n[[ 0.00000000e+00  0.00000000e+00  0.00000000e+00  0.00000000e+00\n   0.00000000e+00  0.00000000e+00  0.00000000e+00  0.00000000e+00\n   0.00000000e+00  0.00000000e+00  0.00000000e+00  0.00000000e+00\n   0.00000000e+00  0.00000000e+00  0.00000000e+00  0.00000000e+00]\n [ 0.00000000e+00 -1.00000000e+00  0.00000000e+00  0.00000000e+00\n  -1.00000000e+00  0.00000000e+00  0.00000000e+00  0.00000000e+00\n   0.00000000e+00  0.00000000e+00  0.00000000e+00  0.00000000e+00\n   0.00000000e+00  0.00000000e+00  0.00000000e+00  0.00000000e+00]\n [ 0.00000000e+00  0.00000000e+00 -1.00000000e+00  0.00000000e+00\n   0.00000000e+00 -1.41421356e+00  0.00000000e+00  0.00000000e+00\n   0.00000000e+00  0.00000000e+00  0.00000000e+00  0.00000000e+00\n   0.00000000e+00  0.00000000e+00  0.00000000e+00  0.00000000e+00]\n [ 0.00000000e+00  0.00000000e+00  0.00000000e+00 -4.44089210e-16\n   0.00000000e+00  0.00000000e+00 -1.73205081e+00  0.00000000e+00\n   0.00000000e+00  0.00000000e+00  0.00000000e+00  0.00000000e+00\n   0.00000000e+00  0.00000000e+00  0.00000000e+00  0.00000000e+00]\n [ 0.00000000e+00 -1.00000000e+00  0.00000000e+00  0.00000000e+00\n  -1.00000000e+00  0.00000000e+00  0.00000000e+00  0.00000000e+00\n   0.00000000e+00  0.00000000e+00  0.00000000e+00  0.00000000e+00\n   0.00000000e+00  0.00000000e+00  0.00000000e+00  0.00000000e+00]\n [ 0.00000000e+00  0.00000000e+00 -1.41421356e+00  0.00000000e+00\n   0.00000000e+00 -1.00000000e+00  0.00000000e+00  0.00000000e+00\n  -1.41421356e+00  0.00000000e+00  0.00000000e+00  0.00000000e+00\n   0.00000000e+00  0.00000000e+00  0.00000000e+00  0.00000000e+00]\n [ 0.00000000e+00  0.00000000e+00  0.00000000e+00 -1.73205081e+00\n   0.00000000e+00  0.00000000e+00  4.44089210e-16  0.00000000e+00\n   0.00000000e+00 -2.00000000e+00  0.00000000e+00  0.00000000e+00\n   0.00000000e+00  0.00000000e+00  0.00000000e+00  0.00000000e+00]\n [ 0.00000000e+00  0.00000000e+00  0.00000000e+00  0.00000000e+00\n   0.00000000e+00  0.00000000e+00  0.00000000e+00  2.00000000e+00\n   0.00000000e+00  0.00000000e+00 -2.44948974e+00  0.00000000e+00\n   0.00000000e+00  0.00000000e+00  0.00000000e+00  0.00000000e+00]\n [ 0.00000000e+00  0.00000000e+00  0.00000000e+00  0.00000000e+00\n   0.00000000e+00 -1.41421356e+00  0.00000000e+00  0.00000000e+00\n  -1.00000000e+00  0.00000000e+00  0.00000000e+00  0.00000000e+00\n   0.00000000e+00  0.00000000e+00  0.00000000e+00  0.00000000e+00]\n [ 0.00000000e+00  0.00000000e+00  0.00000000e+00  0.00000000e+00\n   0.00000000e+00  0.00000000e+00 -2.00000000e+00  0.00000000e+00\n   0.00000000e+00  4.44089210e-16  0.00000000e+00  0.00000000e+00\n  -1.73205081e+00  0.00000000e+00  0.00000000e+00  0.00000000e+00]\n [ 0.00000000e+00  0.00000000e+00  0.00000000e+00  0.00000000e+00\n   0.00000000e+00  0.00000000e+00  0.00000000e+00 -2.44948974e+00\n   0.00000000e+00  0.00000000e+00  2.00000000e+00  0.00000000e+00\n   0.00000000e+00 -2.44948974e+00  0.00000000e+00  0.00000000e+00]\n [ 0.00000000e+00  0.00000000e+00  0.00000000e+00  0.00000000e+00\n   0.00000000e+00  0.00000000e+00  0.00000000e+00  0.00000000e+00\n   0.00000000e+00  0.00000000e+00  0.00000000e+00  5.00000000e+00\n   0.00000000e+00  0.00000000e+00 -3.00000000e+00  0.00000000e+00]\n [ 0.00000000e+00  0.00000000e+00  0.00000000e+00  0.00000000e+00\n   0.00000000e+00  0.00000000e+00  0.00000000e+00  0.00000000e+00\n   0.00000000e+00 -1.73205081e+00  0.00000000e+00  0.00000000e+00\n  -4.44089210e-16  0.00000000e+00  0.00000000e+00  0.00000000e+00]\n [ 0.00000000e+00  0.00000000e+00  0.00000000e+00  0.00000000e+00\n   0.00000000e+00  0.00000000e+00  0.00000000e+00  0.00000000e+00\n   0.00000000e+00  0.00000000e+00 -2.44948974e+00  0.00000000e+00\n   0.00000000e+00  2.00000000e+00  0.00000000e+00  0.00000000e+00]\n [ 0.00000000e+00  0.00000000e+00  0.00000000e+00  0.00000000e+00\n   0.00000000e+00  0.00000000e+00  0.00000000e+00  0.00000000e+00\n   0.00000000e+00  0.00000000e+00  0.00000000e+00 -3.00000000e+00\n   0.00000000e+00  0.00000000e+00  5.00000000e+00  0.00000000e+00]\n [ 0.00000000e+00  0.00000000e+00  0.00000000e+00  0.00000000e+00\n   0.00000000e+00  0.00000000e+00  0.00000000e+00  0.00000000e+00\n   0.00000000e+00  0.00000000e+00  0.00000000e+00  0.00000000e+00\n   0.00000000e+00  0.00000000e+00  0.00000000e+00  9.00000000e+00]]"
     },
     "execution_count": 9,
     "metadata": {},
     "output_type": "execute_result"
    }
   ],
   "source": [
    "def BHHam(Sites,MaxParticles,particleconserving=False,J=1,U=2,V=0,mu=1):\n",
    "    def a(Location):\n",
    "        return(ldestroy(Location,Sites,MaxParticles))\n",
    "    def adag(Location):\n",
    "        return(lcreate(Location,Sites,MaxParticles))\n",
    "    def n(Location):\n",
    "        return(lcreate(Location,Sites,MaxParticles)*ldestroy(Location,Sites,MaxParticles))\n",
    "    sum1=0\n",
    "    sum2=0\n",
    "    sum3=0\n",
    "    sum4=0\n",
    "    for i in range(Sites-1):\n",
    "        sum1 += adag(i)*a(i+1) + a(i)*adag(i+1)\n",
    "    for i in range(Sites):\n",
    "        sum2 += Qobj(n(i).data*(n(i).data-identity(n(i).shape[0]).data))\n",
    "    for i in range(Sites-1):\n",
    "        sum3 += n(i)*n(i+1)\n",
    "    for i in range(Sites):\n",
    "        sum4 += n(i)\n",
    "    if sum1 == 0:\n",
    "        sum1 = Qobj(np.zeros(sum2.shape))\n",
    "    if sum3 == 0:\n",
    "        sum3 = Qobj(np.zeros(sum2.shape))\n",
    "    H = Qobj(-J*sum1.data + U/2*sum2.data + V*sum3.data - mu*sum4.data)\n",
    "    ##This below describes what happens if we want the space to be total particle conserving\n",
    "    if particleconserving==True:\n",
    "        removecolumn=[]\n",
    "        H = H.full()\n",
    "        for i in particlecount((MaxParticles+1)**Sites,MaxParticles):\n",
    "            if i==MaxParticles:\n",
    "                removecolumn.append(0)\n",
    "            else:\n",
    "                removecolumn.append(1)\n",
    "        for i in range(len(removecolumn)-1,-1,-1): #This iterates backwards to easily remove columns\n",
    "            if removecolumn[i]==1:\n",
    "                H=np.delete(H,i,0)\n",
    "                H=np.delete(H,i,1)\n",
    "        H = Qobj(H)    \n",
    "    return(H)\n",
    "\n",
    "BHHam(2,3,False,1,1,1,1)"
   ]
  },
  {
   "cell_type": "code",
   "execution_count": 10,
   "metadata": {},
   "outputs": [
    {
     "data": {
      "text/latex": "Quantum object: dims = [[3], [3]], shape = (3, 3), type = oper, isherm = True\\begin{equation*}\\left(\\begin{array}{*{11}c}-1.0 & -1.0 & 0.0\\\\-1.0 & -1.0 & -1.0\\\\0.0 & -1.0 & -1.0\\\\\\end{array}\\right)\\end{equation*}",
      "text/plain": "Quantum object: dims = [[3], [3]], shape = (3, 3), type = oper, isherm = True\nQobj data =\n[[-1. -1.  0.]\n [-1. -1. -1.]\n [ 0. -1. -1.]]"
     },
     "execution_count": 10,
     "metadata": {},
     "output_type": "execute_result"
    }
   ],
   "source": [
    "H = BHHam(3,1,True)\n",
    "H"
   ]
  },
  {
   "cell_type": "code",
   "execution_count": 14,
   "metadata": {},
   "outputs": [
    {
     "data": {
      "text/plain": "True"
     },
     "execution_count": 14,
     "metadata": {},
     "output_type": "execute_result"
    }
   ],
   "source": [
    "BHHam(3,2,True).isherm"
   ]
  },
  {
   "cell_type": "code",
   "execution_count": 12,
   "metadata": {},
   "outputs": [
    {
     "data": {
      "text/plain": "(array([-2.41421356, -1.        ,  0.41421356]),\n array([Quantum object: dims = [[3], [1]], shape = (3, 1), type = ket\n Qobj data =\n [[0.5       ]\n  [0.70710678]\n  [0.5       ]],\n        Quantum object: dims = [[3], [1]], shape = (3, 1), type = ket\n Qobj data =\n [[-0.70710678]\n  [ 0.        ]\n  [ 0.70710678]],\n        Quantum object: dims = [[3], [1]], shape = (3, 1), type = ket\n Qobj data =\n [[-0.5       ]\n  [ 0.70710678]\n  [-0.5       ]]], dtype=object))"
     },
     "execution_count": 12,
     "metadata": {},
     "output_type": "execute_result"
    }
   ],
   "source": [
    "H.eigenstates()"
   ]
  },
  {
   "cell_type": "markdown",
   "metadata": {},
   "source": [
    "# Part 6: Plotting  Eigenvalues"
   ]
  },
  {
   "cell_type": "code",
   "execution_count": 13,
   "metadata": {},
   "outputs": [
    {
     "data": {
      "text/plain": "<matplotlib.collections.PathCollection at 0x2944eaba3c8>"
     },
     "execution_count": 13,
     "metadata": {},
     "output_type": "execute_result"
    },
    {
     "data": {
      "image/png": "[encoded data removed]",
      "image/svg+xml": "<?xml version=\"1.0\" encoding=\"utf-8\" standalone=\"no\"?>\r\n<!DOCTYPE svg PUBLIC \"-//W3C//DTD SVG 1.1//EN\"\r\n  \"http://www.w3.org/Graphics/SVG/1.1/DTD/svg11.dtd\">\r\n<!-- Created with matplotlib (https://matplotlib.org/) -->\r\n<svg height=\"248.518125pt\" version=\"1.1\" viewBox=\"0 0 370.942187 248.518125\" width=\"370.942187pt\" xmlns=\"http://www.w3.org/2000/svg\" xmlns:xlink=\"http://www.w3.org/1999/xlink\">\r\n <defs>\r\n  <style type=\"text/css\">\r\n*{stroke-linecap:butt;stroke-linejoin:round;}\r\n  </style>\r\n </defs>\r\n <g id=\"figure_1\">\r\n  <g id=\"patch_1\">\r\n   <path d=\"M 0 248.518125 \r\nL 370.942187 248.518125 \r\nL 370.942187 0 \r\nL 0 0 \r\nz\r\n\" style=\"fill:none;\"/>\r\n  </g>\r\n  <g id=\"axes_1\">\r\n   <g id=\"patch_2\">\r\n    <path d=\"M 28.942188 224.64 \r\nL 363.742188 224.64 \r\nL 363.742188 7.2 \r\nL 28.942188 7.2 \r\nz\r\n\" style=\"fill:#ffffff;\"/>\r\n   </g>\r\n   <g id=\"PathCollection_1\">\r\n    <defs>\r\n     <path d=\"M 0 3 \r\nC 0.795609 3 1.55874 2.683901 2.12132 2.12132 \r\nC 2.683901 1.55874 3 0.795609 3 0 \r\nC 3 -0.795609 2.683901 -1.55874 2.12132 -2.12132 \r\nC 1.55874 -2.683901 0.795609 -3 0 -3 \r\nC -0.795609 -3 -1.55874 -2.683901 -2.12132 -2.12132 \r\nC -2.683901 -1.55874 -3 -0.795609 -3 0 \r\nC -3 0.795609 -2.683901 1.55874 -2.12132 2.12132 \r\nC -1.55874 2.683901 -0.795609 3 0 3 \r\nz\r\n\" id=\"m795769a219\" style=\"stroke:#1f77b4;\"/>\r\n    </defs>\r\n    <g clip-path=\"url(#pc9c1b22f6a)\">\r\n     <use style=\"fill:#1f77b4;stroke:#1f77b4;\" x=\"44.613561\" xlink:href=\"#m795769a219\" y=\"207.280158\"/>\r\n     <use style=\"fill:#1f77b4;stroke:#1f77b4;\" x=\"44.613561\" xlink:href=\"#m795769a219\" y=\"197.162813\"/>\r\n     <use style=\"fill:#1f77b4;stroke:#1f77b4;\" x=\"95.18977\" xlink:href=\"#m795769a219\" y=\"213.533022\"/>\r\n     <use style=\"fill:#1f77b4;stroke:#1f77b4;\" x=\"95.18977\" xlink:href=\"#m795769a219\" y=\"197.162813\"/>\r\n     <use style=\"fill:#1f77b4;stroke:#1f77b4;\" x=\"95.18977\" xlink:href=\"#m795769a219\" y=\"190.909949\"/>\r\n     <use style=\"fill:#1f77b4;stroke:#1f77b4;\" x=\"145.765979\" xlink:href=\"#m795769a219\" y=\"214.68657\"/>\r\n     <use style=\"fill:#1f77b4;stroke:#1f77b4;\" x=\"145.765979\" xlink:href=\"#m795769a219\" y=\"197.162813\"/>\r\n     <use style=\"fill:#1f77b4;stroke:#1f77b4;\" x=\"145.765979\" xlink:href=\"#m795769a219\" y=\"179.639056\"/>\r\n     <use style=\"fill:#1f77b4;stroke:#1f77b4;\" x=\"145.765979\" xlink:href=\"#m795769a219\" y=\"176.928121\"/>\r\n     <use style=\"fill:#1f77b4;stroke:#1f77b4;\" x=\"196.342187\" xlink:href=\"#m795769a219\" y=\"211.046657\"/>\r\n     <use style=\"fill:#1f77b4;stroke:#1f77b4;\" x=\"196.342187\" xlink:href=\"#m795769a219\" y=\"190.108753\"/>\r\n     <use style=\"fill:#1f77b4;stroke:#1f77b4;\" x=\"196.342187\" xlink:href=\"#m795769a219\" y=\"176.928121\"/>\r\n     <use style=\"fill:#1f77b4;stroke:#1f77b4;\" x=\"196.342187\" xlink:href=\"#m795769a219\" y=\"153.630144\"/>\r\n     <use style=\"fill:#1f77b4;stroke:#1f77b4;\" x=\"196.342187\" xlink:href=\"#m795769a219\" y=\"152.926931\"/>\r\n     <use style=\"fill:#1f77b4;stroke:#1f77b4;\" x=\"246.918396\" xlink:href=\"#m795769a219\" y=\"202.402288\"/>\r\n     <use style=\"fill:#1f77b4;stroke:#1f77b4;\" x=\"246.918396\" xlink:href=\"#m795769a219\" y=\"179.755437\"/>\r\n     <use style=\"fill:#1f77b4;stroke:#1f77b4;\" x=\"246.918396\" xlink:href=\"#m795769a219\" y=\"159.633468\"/>\r\n     <use style=\"fill:#1f77b4;stroke:#1f77b4;\" x=\"246.918396\" xlink:href=\"#m795769a219\" y=\"152.045896\"/>\r\n     <use style=\"fill:#1f77b4;stroke:#1f77b4;\" x=\"246.918396\" xlink:href=\"#m795769a219\" y=\"118.161879\"/>\r\n     <use style=\"fill:#1f77b4;stroke:#1f77b4;\" x=\"246.918396\" xlink:href=\"#m795769a219\" y=\"118.044265\"/>\r\n     <use style=\"fill:#1f77b4;stroke:#1f77b4;\" x=\"297.494605\" xlink:href=\"#m795769a219\" y=\"188.805078\"/>\r\n     <use style=\"fill:#1f77b4;stroke:#1f77b4;\" x=\"297.494605\" xlink:href=\"#m795769a219\" y=\"163.848651\"/>\r\n     <use style=\"fill:#1f77b4;stroke:#1f77b4;\" x=\"297.494605\" xlink:href=\"#m795769a219\" y=\"144.72449\"/>\r\n     <use style=\"fill:#1f77b4;stroke:#1f77b4;\" x=\"297.494605\" xlink:href=\"#m795769a219\" y=\"122.222064\"/>\r\n     <use style=\"fill:#1f77b4;stroke:#1f77b4;\" x=\"297.494605\" xlink:href=\"#m795769a219\" y=\"119.366494\"/>\r\n     <use style=\"fill:#1f77b4;stroke:#1f77b4;\" x=\"297.494605\" xlink:href=\"#m795769a219\" y=\"72.718772\"/>\r\n     <use style=\"fill:#1f77b4;stroke:#1f77b4;\" x=\"297.494605\" xlink:href=\"#m795769a219\" y=\"72.7042\"/>\r\n     <use style=\"fill:#1f77b4;stroke:#1f77b4;\" x=\"348.070814\" xlink:href=\"#m795769a219\" y=\"170.200357\"/>\r\n     <use style=\"fill:#1f77b4;stroke:#1f77b4;\" x=\"348.070814\" xlink:href=\"#m795769a219\" y=\"143.540207\"/>\r\n     <use style=\"fill:#1f77b4;stroke:#1f77b4;\" x=\"348.070814\" xlink:href=\"#m795769a219\" y=\"120.208723\"/>\r\n     <use style=\"fill:#1f77b4;stroke:#1f77b4;\" x=\"348.070814\" xlink:href=\"#m795769a219\" y=\"107.039738\"/>\r\n     <use style=\"fill:#1f77b4;stroke:#1f77b4;\" x=\"348.070814\" xlink:href=\"#m795769a219\" y=\"76.393469\"/>\r\n     <use style=\"fill:#1f77b4;stroke:#1f77b4;\" x=\"348.070814\" xlink:href=\"#m795769a219\" y=\"75.754664\"/>\r\n     <use style=\"fill:#1f77b4;stroke:#1f77b4;\" x=\"348.070814\" xlink:href=\"#m795769a219\" y=\"17.154873\"/>\r\n     <use style=\"fill:#1f77b4;stroke:#1f77b4;\" x=\"348.070814\" xlink:href=\"#m795769a219\" y=\"17.15343\"/>\r\n    </g>\r\n   </g>\r\n   <g id=\"matplotlib.axis_1\">\r\n    <g id=\"xtick_1\">\r\n     <g id=\"line2d_1\">\r\n      <defs>\r\n       <path d=\"M 0 0 \r\nL 0 3.5 \r\n\" id=\"m353648704f\" style=\"stroke:#000000;stroke-width:0.8;\"/>\r\n      </defs>\r\n      <g>\r\n       <use style=\"stroke:#000000;stroke-width:0.8;\" x=\"44.613561\" xlink:href=\"#m353648704f\" y=\"224.64\"/>\r\n      </g>\r\n     </g>\r\n     <g id=\"text_1\">\r\n      <!-- 1 -->\r\n      <defs>\r\n       <path d=\"M 12.40625 8.296875 \r\nL 28.515625 8.296875 \r\nL 28.515625 63.921875 \r\nL 10.984375 60.40625 \r\nL 10.984375 69.390625 \r\nL 28.421875 72.90625 \r\nL 38.28125 72.90625 \r\nL 38.28125 8.296875 \r\nL 54.390625 8.296875 \r\nL 54.390625 0 \r\nL 12.40625 0 \r\nz\r\n\" id=\"DejaVuSans-49\"/>\r\n      </defs>\r\n      <g transform=\"translate(41.432311 239.238437)scale(0.1 -0.1)\">\r\n       <use xlink:href=\"#DejaVuSans-49\"/>\r\n      </g>\r\n     </g>\r\n    </g>\r\n    <g id=\"xtick_2\">\r\n     <g id=\"line2d_2\">\r\n      <g>\r\n       <use style=\"stroke:#000000;stroke-width:0.8;\" x=\"95.18977\" xlink:href=\"#m353648704f\" y=\"224.64\"/>\r\n      </g>\r\n     </g>\r\n     <g id=\"text_2\">\r\n      <!-- 2 -->\r\n      <defs>\r\n       <path d=\"M 19.1875 8.296875 \r\nL 53.609375 8.296875 \r\nL 53.609375 0 \r\nL 7.328125 0 \r\nL 7.328125 8.296875 \r\nQ 12.9375 14.109375 22.625 23.890625 \r\nQ 32.328125 33.6875 34.8125 36.53125 \r\nQ 39.546875 41.84375 41.421875 45.53125 \r\nQ 43.3125 49.21875 43.3125 52.78125 \r\nQ 43.3125 58.59375 39.234375 62.25 \r\nQ 35.15625 65.921875 28.609375 65.921875 \r\nQ 23.96875 65.921875 18.8125 64.3125 \r\nQ 13.671875 62.703125 7.8125 59.421875 \r\nL 7.8125 69.390625 \r\nQ 13.765625 71.78125 18.9375 73 \r\nQ 24.125 74.21875 28.421875 74.21875 \r\nQ 39.75 74.21875 46.484375 68.546875 \r\nQ 53.21875 62.890625 53.21875 53.421875 \r\nQ 53.21875 48.921875 51.53125 44.890625 \r\nQ 49.859375 40.875 45.40625 35.40625 \r\nQ 44.1875 33.984375 37.640625 27.21875 \r\nQ 31.109375 20.453125 19.1875 8.296875 \r\nz\r\n\" id=\"DejaVuSans-50\"/>\r\n      </defs>\r\n      <g transform=\"translate(92.00852 239.238437)scale(0.1 -0.1)\">\r\n       <use xlink:href=\"#DejaVuSans-50\"/>\r\n      </g>\r\n     </g>\r\n    </g>\r\n    <g id=\"xtick_3\">\r\n     <g id=\"line2d_3\">\r\n      <g>\r\n       <use style=\"stroke:#000000;stroke-width:0.8;\" x=\"145.765979\" xlink:href=\"#m353648704f\" y=\"224.64\"/>\r\n      </g>\r\n     </g>\r\n     <g id=\"text_3\">\r\n      <!-- 3 -->\r\n      <defs>\r\n       <path d=\"M 40.578125 39.3125 \r\nQ 47.65625 37.796875 51.625 33 \r\nQ 55.609375 28.21875 55.609375 21.1875 \r\nQ 55.609375 10.40625 48.1875 4.484375 \r\nQ 40.765625 -1.421875 27.09375 -1.421875 \r\nQ 22.515625 -1.421875 17.65625 -0.515625 \r\nQ 12.796875 0.390625 7.625 2.203125 \r\nL 7.625 11.71875 \r\nQ 11.71875 9.328125 16.59375 8.109375 \r\nQ 21.484375 6.890625 26.8125 6.890625 \r\nQ 36.078125 6.890625 40.9375 10.546875 \r\nQ 45.796875 14.203125 45.796875 21.1875 \r\nQ 45.796875 27.640625 41.28125 31.265625 \r\nQ 36.765625 34.90625 28.71875 34.90625 \r\nL 20.21875 34.90625 \r\nL 20.21875 43.015625 \r\nL 29.109375 43.015625 \r\nQ 36.375 43.015625 40.234375 45.921875 \r\nQ 44.09375 48.828125 44.09375 54.296875 \r\nQ 44.09375 59.90625 40.109375 62.90625 \r\nQ 36.140625 65.921875 28.71875 65.921875 \r\nQ 24.65625 65.921875 20.015625 65.03125 \r\nQ 15.375 64.15625 9.8125 62.3125 \r\nL 9.8125 71.09375 \r\nQ 15.4375 72.65625 20.34375 73.4375 \r\nQ 25.25 74.21875 29.59375 74.21875 \r\nQ 40.828125 74.21875 47.359375 69.109375 \r\nQ 53.90625 64.015625 53.90625 55.328125 \r\nQ 53.90625 49.265625 50.4375 45.09375 \r\nQ 46.96875 40.921875 40.578125 39.3125 \r\nz\r\n\" id=\"DejaVuSans-51\"/>\r\n      </defs>\r\n      <g transform=\"translate(142.584729 239.238437)scale(0.1 -0.1)\">\r\n       <use xlink:href=\"#DejaVuSans-51\"/>\r\n      </g>\r\n     </g>\r\n    </g>\r\n    <g id=\"xtick_4\">\r\n     <g id=\"line2d_4\">\r\n      <g>\r\n       <use style=\"stroke:#000000;stroke-width:0.8;\" x=\"196.342187\" xlink:href=\"#m353648704f\" y=\"224.64\"/>\r\n      </g>\r\n     </g>\r\n     <g id=\"text_4\">\r\n      <!-- 4 -->\r\n      <defs>\r\n       <path d=\"M 37.796875 64.3125 \r\nL 12.890625 25.390625 \r\nL 37.796875 25.390625 \r\nz\r\nM 35.203125 72.90625 \r\nL 47.609375 72.90625 \r\nL 47.609375 25.390625 \r\nL 58.015625 25.390625 \r\nL 58.015625 17.1875 \r\nL 47.609375 17.1875 \r\nL 47.609375 0 \r\nL 37.796875 0 \r\nL 37.796875 17.1875 \r\nL 4.890625 17.1875 \r\nL 4.890625 26.703125 \r\nz\r\n\" id=\"DejaVuSans-52\"/>\r\n      </defs>\r\n      <g transform=\"translate(193.160937 239.238437)scale(0.1 -0.1)\">\r\n       <use xlink:href=\"#DejaVuSans-52\"/>\r\n      </g>\r\n     </g>\r\n    </g>\r\n    <g id=\"xtick_5\">\r\n     <g id=\"line2d_5\">\r\n      <g>\r\n       <use style=\"stroke:#000000;stroke-width:0.8;\" x=\"246.918396\" xlink:href=\"#m353648704f\" y=\"224.64\"/>\r\n      </g>\r\n     </g>\r\n     <g id=\"text_5\">\r\n      <!-- 5 -->\r\n      <defs>\r\n       <path d=\"M 10.796875 72.90625 \r\nL 49.515625 72.90625 \r\nL 49.515625 64.59375 \r\nL 19.828125 64.59375 \r\nL 19.828125 46.734375 \r\nQ 21.96875 47.46875 24.109375 47.828125 \r\nQ 26.265625 48.1875 28.421875 48.1875 \r\nQ 40.625 48.1875 47.75 41.5 \r\nQ 54.890625 34.8125 54.890625 23.390625 \r\nQ 54.890625 11.625 47.5625 5.09375 \r\nQ 40.234375 -1.421875 26.90625 -1.421875 \r\nQ 22.3125 -1.421875 17.546875 -0.640625 \r\nQ 12.796875 0.140625 7.71875 1.703125 \r\nL 7.71875 11.625 \r\nQ 12.109375 9.234375 16.796875 8.0625 \r\nQ 21.484375 6.890625 26.703125 6.890625 \r\nQ 35.15625 6.890625 40.078125 11.328125 \r\nQ 45.015625 15.765625 45.015625 23.390625 \r\nQ 45.015625 31 40.078125 35.4375 \r\nQ 35.15625 39.890625 26.703125 39.890625 \r\nQ 22.75 39.890625 18.8125 39.015625 \r\nQ 14.890625 38.140625 10.796875 36.28125 \r\nz\r\n\" id=\"DejaVuSans-53\"/>\r\n      </defs>\r\n      <g transform=\"translate(243.737146 239.238437)scale(0.1 -0.1)\">\r\n       <use xlink:href=\"#DejaVuSans-53\"/>\r\n      </g>\r\n     </g>\r\n    </g>\r\n    <g id=\"xtick_6\">\r\n     <g id=\"line2d_6\">\r\n      <g>\r\n       <use style=\"stroke:#000000;stroke-width:0.8;\" x=\"297.494605\" xlink:href=\"#m353648704f\" y=\"224.64\"/>\r\n      </g>\r\n     </g>\r\n     <g id=\"text_6\">\r\n      <!-- 6 -->\r\n      <defs>\r\n       <path d=\"M 33.015625 40.375 \r\nQ 26.375 40.375 22.484375 35.828125 \r\nQ 18.609375 31.296875 18.609375 23.390625 \r\nQ 18.609375 15.53125 22.484375 10.953125 \r\nQ 26.375 6.390625 33.015625 6.390625 \r\nQ 39.65625 6.390625 43.53125 10.953125 \r\nQ 47.40625 15.53125 47.40625 23.390625 \r\nQ 47.40625 31.296875 43.53125 35.828125 \r\nQ 39.65625 40.375 33.015625 40.375 \r\nz\r\nM 52.59375 71.296875 \r\nL 52.59375 62.3125 \r\nQ 48.875 64.0625 45.09375 64.984375 \r\nQ 41.3125 65.921875 37.59375 65.921875 \r\nQ 27.828125 65.921875 22.671875 59.328125 \r\nQ 17.53125 52.734375 16.796875 39.40625 \r\nQ 19.671875 43.65625 24.015625 45.921875 \r\nQ 28.375 48.1875 33.59375 48.1875 \r\nQ 44.578125 48.1875 50.953125 41.515625 \r\nQ 57.328125 34.859375 57.328125 23.390625 \r\nQ 57.328125 12.15625 50.6875 5.359375 \r\nQ 44.046875 -1.421875 33.015625 -1.421875 \r\nQ 20.359375 -1.421875 13.671875 8.265625 \r\nQ 6.984375 17.96875 6.984375 36.375 \r\nQ 6.984375 53.65625 15.1875 63.9375 \r\nQ 23.390625 74.21875 37.203125 74.21875 \r\nQ 40.921875 74.21875 44.703125 73.484375 \r\nQ 48.484375 72.75 52.59375 71.296875 \r\nz\r\n\" id=\"DejaVuSans-54\"/>\r\n      </defs>\r\n      <g transform=\"translate(294.313355 239.238437)scale(0.1 -0.1)\">\r\n       <use xlink:href=\"#DejaVuSans-54\"/>\r\n      </g>\r\n     </g>\r\n    </g>\r\n    <g id=\"xtick_7\">\r\n     <g id=\"line2d_7\">\r\n      <g>\r\n       <use style=\"stroke:#000000;stroke-width:0.8;\" x=\"348.070814\" xlink:href=\"#m353648704f\" y=\"224.64\"/>\r\n      </g>\r\n     </g>\r\n     <g id=\"text_7\">\r\n      <!-- 7 -->\r\n      <defs>\r\n       <path d=\"M 8.203125 72.90625 \r\nL 55.078125 72.90625 \r\nL 55.078125 68.703125 \r\nL 28.609375 0 \r\nL 18.3125 0 \r\nL 43.21875 64.59375 \r\nL 8.203125 64.59375 \r\nz\r\n\" id=\"DejaVuSans-55\"/>\r\n      </defs>\r\n      <g transform=\"translate(344.889564 239.238437)scale(0.1 -0.1)\">\r\n       <use xlink:href=\"#DejaVuSans-55\"/>\r\n      </g>\r\n     </g>\r\n    </g>\r\n   </g>\r\n   <g id=\"matplotlib.axis_2\">\r\n    <g id=\"ytick_1\">\r\n     <g id=\"line2d_8\">\r\n      <defs>\r\n       <path d=\"M 0 0 \r\nL -3.5 0 \r\n\" id=\"m99ff4a30d9\" style=\"stroke:#000000;stroke-width:0.8;\"/>\r\n      </defs>\r\n      <g>\r\n       <use style=\"stroke:#000000;stroke-width:0.8;\" x=\"28.942188\" xlink:href=\"#m99ff4a30d9\" y=\"222.456177\"/>\r\n      </g>\r\n     </g>\r\n     <g id=\"text_8\">\r\n      <!-- −5 -->\r\n      <defs>\r\n       <path d=\"M 10.59375 35.5 \r\nL 73.1875 35.5 \r\nL 73.1875 27.203125 \r\nL 10.59375 27.203125 \r\nz\r\n\" id=\"DejaVuSans-8722\"/>\r\n      </defs>\r\n      <g transform=\"translate(7.2 226.255396)scale(0.1 -0.1)\">\r\n       <use xlink:href=\"#DejaVuSans-8722\"/>\r\n       <use x=\"83.789062\" xlink:href=\"#DejaVuSans-53\"/>\r\n      </g>\r\n     </g>\r\n    </g>\r\n    <g id=\"ytick_2\">\r\n     <g id=\"line2d_9\">\r\n      <g>\r\n       <use style=\"stroke:#000000;stroke-width:0.8;\" x=\"28.942188\" xlink:href=\"#m99ff4a30d9\" y=\"197.162813\"/>\r\n      </g>\r\n     </g>\r\n     <g id=\"text_9\">\r\n      <!-- 0 -->\r\n      <defs>\r\n       <path d=\"M 31.78125 66.40625 \r\nQ 24.171875 66.40625 20.328125 58.90625 \r\nQ 16.5 51.421875 16.5 36.375 \r\nQ 16.5 21.390625 20.328125 13.890625 \r\nQ 24.171875 6.390625 31.78125 6.390625 \r\nQ 39.453125 6.390625 43.28125 13.890625 \r\nQ 47.125 21.390625 47.125 36.375 \r\nQ 47.125 51.421875 43.28125 58.90625 \r\nQ 39.453125 66.40625 31.78125 66.40625 \r\nz\r\nM 31.78125 74.21875 \r\nQ 44.046875 74.21875 50.515625 64.515625 \r\nQ 56.984375 54.828125 56.984375 36.375 \r\nQ 56.984375 17.96875 50.515625 8.265625 \r\nQ 44.046875 -1.421875 31.78125 -1.421875 \r\nQ 19.53125 -1.421875 13.0625 8.265625 \r\nQ 6.59375 17.96875 6.59375 36.375 \r\nQ 6.59375 54.828125 13.0625 64.515625 \r\nQ 19.53125 74.21875 31.78125 74.21875 \r\nz\r\n\" id=\"DejaVuSans-48\"/>\r\n      </defs>\r\n      <g transform=\"translate(15.579688 200.962031)scale(0.1 -0.1)\">\r\n       <use xlink:href=\"#DejaVuSans-48\"/>\r\n      </g>\r\n     </g>\r\n    </g>\r\n    <g id=\"ytick_3\">\r\n     <g id=\"line2d_10\">\r\n      <g>\r\n       <use style=\"stroke:#000000;stroke-width:0.8;\" x=\"28.942188\" xlink:href=\"#m99ff4a30d9\" y=\"171.869448\"/>\r\n      </g>\r\n     </g>\r\n     <g id=\"text_10\">\r\n      <!-- 5 -->\r\n      <g transform=\"translate(15.579688 175.668667)scale(0.1 -0.1)\">\r\n       <use xlink:href=\"#DejaVuSans-53\"/>\r\n      </g>\r\n     </g>\r\n    </g>\r\n    <g id=\"ytick_4\">\r\n     <g id=\"line2d_11\">\r\n      <g>\r\n       <use style=\"stroke:#000000;stroke-width:0.8;\" x=\"28.942188\" xlink:href=\"#m99ff4a30d9\" y=\"146.576084\"/>\r\n      </g>\r\n     </g>\r\n     <g id=\"text_11\">\r\n      <!-- 10 -->\r\n      <g transform=\"translate(9.217188 150.375303)scale(0.1 -0.1)\">\r\n       <use xlink:href=\"#DejaVuSans-49\"/>\r\n       <use x=\"63.623047\" xlink:href=\"#DejaVuSans-48\"/>\r\n      </g>\r\n     </g>\r\n    </g>\r\n    <g id=\"ytick_5\">\r\n     <g id=\"line2d_12\">\r\n      <g>\r\n       <use style=\"stroke:#000000;stroke-width:0.8;\" x=\"28.942188\" xlink:href=\"#m99ff4a30d9\" y=\"121.28272\"/>\r\n      </g>\r\n     </g>\r\n     <g id=\"text_12\">\r\n      <!-- 15 -->\r\n      <g transform=\"translate(9.217188 125.081939)scale(0.1 -0.1)\">\r\n       <use xlink:href=\"#DejaVuSans-49\"/>\r\n       <use x=\"63.623047\" xlink:href=\"#DejaVuSans-53\"/>\r\n      </g>\r\n     </g>\r\n    </g>\r\n    <g id=\"ytick_6\">\r\n     <g id=\"line2d_13\">\r\n      <g>\r\n       <use style=\"stroke:#000000;stroke-width:0.8;\" x=\"28.942188\" xlink:href=\"#m99ff4a30d9\" y=\"95.989355\"/>\r\n      </g>\r\n     </g>\r\n     <g id=\"text_13\">\r\n      <!-- 20 -->\r\n      <g transform=\"translate(9.217188 99.788574)scale(0.1 -0.1)\">\r\n       <use xlink:href=\"#DejaVuSans-50\"/>\r\n       <use x=\"63.623047\" xlink:href=\"#DejaVuSans-48\"/>\r\n      </g>\r\n     </g>\r\n    </g>\r\n    <g id=\"ytick_7\">\r\n     <g id=\"line2d_14\">\r\n      <g>\r\n       <use style=\"stroke:#000000;stroke-width:0.8;\" x=\"28.942188\" xlink:href=\"#m99ff4a30d9\" y=\"70.695991\"/>\r\n      </g>\r\n     </g>\r\n     <g id=\"text_14\">\r\n      <!-- 25 -->\r\n      <g transform=\"translate(9.217188 74.49521)scale(0.1 -0.1)\">\r\n       <use xlink:href=\"#DejaVuSans-50\"/>\r\n       <use x=\"63.623047\" xlink:href=\"#DejaVuSans-53\"/>\r\n      </g>\r\n     </g>\r\n    </g>\r\n    <g id=\"ytick_8\">\r\n     <g id=\"line2d_15\">\r\n      <g>\r\n       <use style=\"stroke:#000000;stroke-width:0.8;\" x=\"28.942188\" xlink:href=\"#m99ff4a30d9\" y=\"45.402627\"/>\r\n      </g>\r\n     </g>\r\n     <g id=\"text_15\">\r\n      <!-- 30 -->\r\n      <g transform=\"translate(9.217188 49.201846)scale(0.1 -0.1)\">\r\n       <use xlink:href=\"#DejaVuSans-51\"/>\r\n       <use x=\"63.623047\" xlink:href=\"#DejaVuSans-48\"/>\r\n      </g>\r\n     </g>\r\n    </g>\r\n    <g id=\"ytick_9\">\r\n     <g id=\"line2d_16\">\r\n      <g>\r\n       <use style=\"stroke:#000000;stroke-width:0.8;\" x=\"28.942188\" xlink:href=\"#m99ff4a30d9\" y=\"20.109263\"/>\r\n      </g>\r\n     </g>\r\n     <g id=\"text_16\">\r\n      <!-- 35 -->\r\n      <g transform=\"translate(9.217188 23.908481)scale(0.1 -0.1)\">\r\n       <use xlink:href=\"#DejaVuSans-51\"/>\r\n       <use x=\"63.623047\" xlink:href=\"#DejaVuSans-53\"/>\r\n      </g>\r\n     </g>\r\n    </g>\r\n   </g>\r\n   <g id=\"patch_3\">\r\n    <path d=\"M 28.942188 224.64 \r\nL 28.942188 7.2 \r\n\" style=\"fill:none;stroke:#000000;stroke-linecap:square;stroke-linejoin:miter;stroke-width:0.8;\"/>\r\n   </g>\r\n   <g id=\"patch_4\">\r\n    <path d=\"M 363.742188 224.64 \r\nL 363.742188 7.2 \r\n\" style=\"fill:none;stroke:#000000;stroke-linecap:square;stroke-linejoin:miter;stroke-width:0.8;\"/>\r\n   </g>\r\n   <g id=\"patch_5\">\r\n    <path d=\"M 28.942187 224.64 \r\nL 363.742188 224.64 \r\n\" style=\"fill:none;stroke:#000000;stroke-linecap:square;stroke-linejoin:miter;stroke-width:0.8;\"/>\r\n   </g>\r\n   <g id=\"patch_6\">\r\n    <path d=\"M 28.942187 7.2 \r\nL 363.742188 7.2 \r\n\" style=\"fill:none;stroke:#000000;stroke-linecap:square;stroke-linejoin:miter;stroke-width:0.8;\"/>\r\n   </g>\r\n  </g>\r\n </g>\r\n <defs>\r\n  <clipPath id=\"pc9c1b22f6a\">\r\n   <rect height=\"217.44\" width=\"334.8\" x=\"28.942188\" y=\"7.2\"/>\r\n  </clipPath>\r\n </defs>\r\n</svg>\r\n",
      "text/plain": "<Figure size 432x288 with 1 Axes>"
     },
     "metadata": {
      "needs_background": "light"
     },
     "output_type": "display_data"
    }
   ],
   "source": [
    "xdata=[]\n",
    "ydata=[]\n",
    "for N in range(1,8):\n",
    "    E = BHHam(2,N,True,1,2,0,1).eigenenergies()\n",
    "    for i in E:\n",
    "        xdata.append(N)\n",
    "        ydata.append(i)\n",
    "        \n",
    "plt.scatter(xdata,ydata)"
   ]
  },
  {
   "cell_type": "markdown",
   "metadata": {},
   "source": [
    "Take eigenvalues for different values of \n",
    "x-axis: number of particles in well\n",
    "y-axis: eigenvalues (Stacked on top of each other)"
   ]
  }
 ],
 "metadata": {
  "kernelspec": {
   "display_name": "Python 3",
   "language": "python",
   "name": "python3"
  },
  "language_info": {
   "codemirror_mode": {
    "name": "ipython",
    "version": 3
   },
   "file_extension": ".py",
   "mimetype": "text/x-python",
   "name": "python",
   "nbconvert_exporter": "python",
   "pygments_lexer": "ipython3",
   "version": "3.7.3-final"
  }
 },
 "nbformat": 4,
 "nbformat_minor": 2
}