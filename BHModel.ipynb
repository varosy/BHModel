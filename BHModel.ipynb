{
 "cells": [
  {
   "cell_type": "markdown",
   "metadata": {},
   "source": [
    "# Bose-Hubbard Model\n",
    "*****\n",
    "The Bose-Hubbard Hamiltonian is given by: $$\\hat{H}=-J\\sum_{\\langle i,j\\rangle}\\left(\\hat{b}_{i}^\\dagger\\hat{b}_{j}+\\hat{b}_{i}\\hat{b}_{j}^\\dagger\\right)+\\frac{U}{2}\\sum_{i} \\hat{n}_i\\left(\\hat{n}_i-\\hat{I}\\right)+V\\sum_{\\langle i,j\\rangle}\\hat{n}_i\\hat{n}_j-\\mu\\sum_{i}\\hat{n}_i \\$$"
   ]
  },
  {
   "cell_type": "code",
   "execution_count": 1,
   "metadata": {},
   "outputs": [],
   "source": [
    "import matplotlib.pyplot as plt\n",
    "import numpy as np\n",
    "from qutip import *"
   ]
  },
  {
   "cell_type": "markdown",
   "metadata": {},
   "source": [
    "Suppose we have two wells and one total particle in the system. Try computing the Hamiltonian for this system with $V = 0$."
   ]
  },
  {
   "cell_type": "code",
   "execution_count": 2,
   "metadata": {},
   "outputs": [
    {
     "data": {
      "text/latex": [
       "Quantum object: dims = [[3], [3]], shape = (3, 3), type = oper, isherm = True\\begin{equation*}\\left(\\begin{array}{*{11}c}0.0 & 0.0 & 0.0\\\\0.0 & 1.0 & 0.0\\\\0.0 & 0.0 & 2.0\\\\\\end{array}\\right)\\end{equation*}"
      ],
      "text/plain": [
       "Quantum object: dims = [[3], [3]], shape = (3, 3), type = oper, isherm = True\n",
       "Qobj data =\n",
       "[[0. 0. 0.]\n",
       " [0. 1. 0.]\n",
       " [0. 0. 2.]]"
      ]
     },
     "execution_count": 2,
     "metadata": {},
     "output_type": "execute_result"
    }
   ],
   "source": [
    "basis1 = basis(2,0)\n",
    "basis2 = basis(2,1)\n",
    "def number(N):\n",
    "    return(create(N)*destroy(N))\n",
    "number(3)"
   ]
  },
  {
   "cell_type": "code",
   "execution_count": 16,
   "metadata": {},
   "outputs": [
    {
     "data": {
      "text/plain": [
       "[[0, 1], [1, 0], [1, 2], [2, 1], [2, 3], [3, 2], [3, 4], [4, 3]]"
      ]
     },
     "execution_count": 16,
     "metadata": {},
     "output_type": "execute_result"
    }
   ],
   "source": [
    "def NearestNeighbor(Sites):\n",
    "    l=[]\n",
    "    for i in range(Sites):\n",
    "        for k in range(2):\n",
    "            l1=[]\n",
    "            l1.append(i)\n",
    "            l1.append((i-1)+2*k)\n",
    "            l.append(l1)\n",
    "    l.remove(l[2*Sites-1])\n",
    "    l.remove(l[0])\n",
    "    return(l)\n",
    "\n",
    "NearestNeighbor(5)"
   ]
  },
  {
   "cell_type": "code",
   "execution_count": 157,
   "metadata": {},
   "outputs": [
    {
     "data": {
      "text/latex": [
       "Quantum object: dims = [[4], [4]], shape = (4, 4), type = oper, isherm = False\\begin{equation*}\\left(\\begin{array}{*{11}c}0.0 & 1.0 & 0.0 & 0.0\\\\0.0 & 0.0 & 1.414 & 0.0\\\\0.0 & 0.0 & 0.0 & 1.732\\\\0.0 & 0.0 & 0.0 & 0.0\\\\\\end{array}\\right)\\end{equation*}"
      ],
      "text/plain": [
       "Quantum object: dims = [[4], [4]], shape = (4, 4), type = oper, isherm = False\n",
       "Qobj data =\n",
       "[[0.         1.         0.         0.        ]\n",
       " [0.         0.         1.41421356 0.        ]\n",
       " [0.         0.         0.         1.73205081]\n",
       " [0.         0.         0.         0.        ]]"
      ]
     },
     "execution_count": 157,
     "metadata": {},
     "output_type": "execute_result"
    }
   ],
   "source": [
    "def ldestroy(N,Sites,Particles):\n",
    "    l=[]\n",
    "    for i in range(N):\n",
    "        l.append(identity(Particles+1))\n",
    "    l.append(destroy(Particles+1))\n",
    "    for i in range(Sites-N-1):\n",
    "        l.append(identity(Particles+1))\n",
    "    if len(l) == 1:\n",
    "        s=l[0]\n",
    "    elif len(l) > 1:\n",
    "        s=l[0]\n",
    "        a=0\n",
    "        ints=[]\n",
    "        for i in range(len(l)-1):\n",
    "            s=tensor(s,l[i+1])\n",
    "            ints.append(s)\n",
    "    return(s)\n",
    "    \n",
    "ldestroy(0,1,3)"
   ]
  },
  {
   "cell_type": "code",
   "execution_count": 153,
   "metadata": {},
   "outputs": [],
   "source": [
    "for i in range(0):\n",
    "    print('Hello')"
   ]
  },
  {
   "cell_type": "code",
   "execution_count": 5,
   "metadata": {},
   "outputs": [],
   "source": [
    "def lcreate(N,Sites,Particles):\n",
    "    return(ldestroy(N,Sites,Particles).dag())"
   ]
  },
  {
   "cell_type": "code",
   "execution_count": 6,
   "metadata": {},
   "outputs": [
    {
     "data": {
      "text/plain": [
       "4"
      ]
     },
     "execution_count": 6,
     "metadata": {},
     "output_type": "execute_result"
    }
   ],
   "source": [
    "fock_dm(4,2).dims[0][0]1"
   ]
  },
  {
   "cell_type": "code",
   "execution_count": 139,
   "metadata": {},
   "outputs": [
    {
     "data": {
      "text/latex": [
       "Quantum object: dims = [[4], [4]], shape = (4, 4), type = oper, isherm = True\\begin{equation*}\\left(\\begin{array}{*{11}c}0.0 & 0.0 & 0.0 & 0.0\\\\0.0 & -1.0 & -1.0 & 0.0\\\\0.0 & -1.0 & -1.0 & 0.0\\\\0.0 & 0.0 & 0.0 & -2.0\\\\\\end{array}\\right)\\end{equation*}"
      ],
      "text/plain": [
       "Quantum object: dims = [[4], [4]], shape = (4, 4), type = oper, isherm = True\n",
       "Qobj data =\n",
       "[[ 0.  0.  0.  0.]\n",
       " [ 0. -1. -1.  0.]\n",
       " [ 0. -1. -1.  0.]\n",
       " [ 0.  0.  0. -2.]]"
      ]
     },
     "execution_count": 139,
     "metadata": {},
     "output_type": "execute_result"
    }
   ],
   "source": [
    "def BHHamOLD(Sites,Particles,J=1,U=2,V=0,mu=1):\n",
    "    def a(Location):\n",
    "        return(ldestroy(Location,Sites,Particles))\n",
    "    def adag(Location):\n",
    "        return(lcreate(Location,Sites,Particles))\n",
    "    def n(Location):\n",
    "        return(lcreate(Location,Sites,Particles)*ldestroy(Location,Sites,Particles))\n",
    "    sum1=0\n",
    "    sum2=0\n",
    "    sum3=0\n",
    "    sum4=0\n",
    "    NN = NearestNeighbor(Sites)\n",
    "    for i in range(len(NN)):\n",
    "        sum1 += adag(NN[i][0])*a(NN[i][1]) + a(NN[i][0])*adag(NN[i][1])\n",
    "    for i in range(Sites):\n",
    "        sum2 += Qobj(n(i).data*(n(i).data-identity(n(i).shape[0]).data))\n",
    "    for i in range(len(NN)):\n",
    "        sum3 += n(NN[i][0])*n(NN[i][1])\n",
    "    for i in range(Sites):\n",
    "        sum4 += n(i)\n",
    "    H = Qobj(-J/2*sum1.data + U/2*sum2.data + V/2*sum3.data - mu*sum4.data)\n",
    "    return(H)\n",
    "\n",
    "BHHamOLD(2,1,1,0,0,1)"
   ]
  },
  {
   "cell_type": "code",
   "execution_count": 164,
   "metadata": {},
   "outputs": [
    {
     "data": {
      "text/latex": [
       "Quantum object: dims = [[4], [4]], shape = (4, 4), type = oper, isherm = True\\begin{equation*}\\left(\\begin{array}{*{11}c}0.0 & 0.0 & 0.0 & 0.0\\\\0.0 & -1.0 & 0.0 & 0.0\\\\0.0 & 0.0 & -2.0 & 0.0\\\\0.0 & 0.0 & 0.0 & -3.000\\\\\\end{array}\\right)\\end{equation*}"
      ],
      "text/plain": [
       "Quantum object: dims = [[4], [4]], shape = (4, 4), type = oper, isherm = True\n",
       "Qobj data =\n",
       "[[ 0.  0.  0.  0.]\n",
       " [ 0. -1.  0.  0.]\n",
       " [ 0.  0. -2.  0.]\n",
       " [ 0.  0.  0. -3.]]"
      ]
     },
     "execution_count": 164,
     "metadata": {},
     "output_type": "execute_result"
    }
   ],
   "source": [
    "def BHHam(Sites,Particles,J=1,U=2,V=0,mu=1):\n",
    "    def a(Location):\n",
    "        return(ldestroy(Location,Sites,Particles))\n",
    "    def adag(Location):\n",
    "        return(lcreate(Location,Sites,Particles))\n",
    "    def n(Location):\n",
    "        return(lcreate(Location,Sites,Particles)*ldestroy(Location,Sites,Particles))\n",
    "    sum1=0\n",
    "    sum2=0\n",
    "    sum3=0\n",
    "    sum4=0\n",
    "    for i in range(Sites-1):\n",
    "        sum1 += adag(i)*a(i+1) + a(i)*adag(i+1)\n",
    "    for i in range(Sites):\n",
    "        sum2 += Qobj(n(i).data*(n(i).data-identity(n(i).shape[0]).data))\n",
    "    for i in range(Sites-1):\n",
    "        sum3 += n(i)*n(i+1)\n",
    "    for i in range(Sites):\n",
    "        sum4 += n(i)\n",
    "    if sum1 == 0:\n",
    "        sum1 = Qobj(np.zeros(sum2.shape))\n",
    "    if sum3 == 0:\n",
    "        sum3 = Qobj(np.zeros(sum2.shape))\n",
    "    H = Qobj(-J*sum1.data + U/2*sum2.data + V*sum3.data - mu*sum4.data)\n",
    "    return(H)\n",
    "\n",
    "BHHam(1,3,1,0,0,1)"
   ]
  },
  {
   "cell_type": "code",
   "execution_count": 172,
   "metadata": {},
   "outputs": [
    {
     "data": {
      "text/latex": [
       "Quantum object: dims = [[4], [4]], shape = (4, 4), type = oper, isherm = True\\begin{equation*}\\left(\\begin{array}{*{11}c}0.0 & 0.0 & 0.0 & 0.0\\\\0.0 & -1.0 & -1.0 & 0.0\\\\0.0 & -1.0 & -1.0 & 0.0\\\\0.0 & 0.0 & 0.0 & -2.0\\\\\\end{array}\\right)\\end{equation*}"
      ],
      "text/plain": [
       "Quantum object: dims = [[4], [4]], shape = (4, 4), type = oper, isherm = True\n",
       "Qobj data =\n",
       "[[ 0.  0.  0.  0.]\n",
       " [ 0. -1. -1.  0.]\n",
       " [ 0. -1. -1.  0.]\n",
       " [ 0.  0.  0. -2.]]"
      ]
     },
     "execution_count": 172,
     "metadata": {},
     "output_type": "execute_result"
    }
   ],
   "source": [
    "H = BHHam(2,1)\n",
    "H"
   ]
  },
  {
   "cell_type": "code",
   "execution_count": 173,
   "metadata": {},
   "outputs": [
    {
     "data": {
      "text/plain": [
       "(array([-2., -2.,  0.,  0.]),\n",
       " array([Quantum object: dims = [[4], [1]], shape = (4, 1), type = ket\n",
       " Qobj data =\n",
       " [[0.]\n",
       "  [0.]\n",
       "  [0.]\n",
       "  [1.]],\n",
       "        Quantum object: dims = [[4], [1]], shape = (4, 1), type = ket\n",
       " Qobj data =\n",
       " [[0.        ]\n",
       "  [0.70710678]\n",
       "  [0.70710678]\n",
       "  [0.        ]],\n",
       "        Quantum object: dims = [[4], [1]], shape = (4, 1), type = ket\n",
       " Qobj data =\n",
       " [[ 0.        ]\n",
       "  [-0.70710678]\n",
       "  [ 0.70710678]\n",
       "  [ 0.        ]],\n",
       "        Quantum object: dims = [[4], [1]], shape = (4, 1), type = ket\n",
       " Qobj data =\n",
       " [[1.]\n",
       "  [0.]\n",
       "  [0.]\n",
       "  [0.]]], dtype=object))"
      ]
     },
     "execution_count": 173,
     "metadata": {},
     "output_type": "execute_result"
    }
   ],
   "source": [
    "H.eigenstates()"
   ]
  },
  {
   "cell_type": "code",
   "execution_count": null,
   "metadata": {},
   "outputs": [],
   "source": []
  }
 ],
 "metadata": {
  "kernelspec": {
   "display_name": "Python 3",
   "language": "python",
   "name": "python3"
  },
  "language_info": {
   "codemirror_mode": {
    "name": "ipython",
    "version": 3
   },
   "file_extension": ".py",
   "mimetype": "text/x-python",
   "name": "python",
   "nbconvert_exporter": "python",
   "pygments_lexer": "ipython3",
   "version": "3.7.3"
  }
 },
 "nbformat": 4,
 "nbformat_minor": 2
}
