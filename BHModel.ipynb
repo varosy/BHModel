{
 "cells": [
  {
   "cell_type": "markdown",
   "metadata": {},
   "source": [
    "# Bose-Hubbard Model\n",
    "*****\n",
    "The Bose-Hubbard Hamiltonian is given by: $$\\hat{H}=-J\\sum_{\\langle i,j\\rangle}\\left(\\hat{b}_{i}^\\dagger\\hat{b}_{j}+\\hat{b}_{i}\\hat{b}_{j}^\\dagger\\right)+\\frac{U}{2}\\sum_{i} \\hat{n}_i\\left(\\hat{n}_i-\\hat{I}\\right)+V\\sum_{\\langle i,j\\rangle}\\hat{n}_i\\hat{n}_j-\\mu\\sum_{i}\\hat{n}_i \\$$"
   ]
  },
  {
   "cell_type": "code",
   "execution_count": 4,
   "metadata": {},
   "outputs": [],
   "source": [
    "import matplotlib.pyplot as plt\n",
    "import numpy as np\n",
    "from qutip import *"
   ]
  },
  {
   "cell_type": "markdown",
   "metadata": {},
   "source": [
    "Suppose we have two wells and one total particle in the system. Try computing the Hamiltonian for this system with $V = 0$."
   ]
  },
  {
   "cell_type": "code",
   "execution_count": 5,
   "metadata": {},
   "outputs": [
    {
     "data": {
      "text/latex": [
       "Quantum object: dims = [[3], [3]], shape = (3, 3), type = oper, isherm = True\\begin{equation*}\\left(\\begin{array}{*{11}c}0.0 & 0.0 & 0.0\\\\0.0 & 1.0 & 0.0\\\\0.0 & 0.0 & 2.0\\\\\\end{array}\\right)\\end{equation*}"
      ],
      "text/plain": [
       "Quantum object: dims = [[3], [3]], shape = (3, 3), type = oper, isherm = True\n",
       "Qobj data =\n",
       "[[0. 0. 0.]\n",
       " [0. 1. 0.]\n",
       " [0. 0. 2.]]"
      ]
     },
     "execution_count": 5,
     "metadata": {},
     "output_type": "execute_result"
    }
   ],
   "source": [
    "basis1 = basis(2,0)\n",
    "basis2 = basis(2,1)\n",
    "def number(N):\n",
    "    return(create(N)*destroy(N))\n",
    "number(3)"
   ]
  },
  {
   "cell_type": "code",
   "execution_count": 6,
   "metadata": {},
   "outputs": [
    {
     "data": {
      "text/plain": [
       "[[0, 1], [1, 0], [1, 2], [2, 1], [2, 3], [3, 2], [3, 4], [4, 3]]"
      ]
     },
     "execution_count": 6,
     "metadata": {},
     "output_type": "execute_result"
    }
   ],
   "source": [
    "def NrNbor(Sites):\n",
    "    l=[]\n",
    "    for i in range(Sites):\n",
    "        for k in range(2):\n",
    "            l1=[]\n",
    "            l1.append(i)\n",
    "            l1.append((i-1)+2*k)\n",
    "            l.append(l1)\n",
    "    l.remove(l[2*Sites-1])\n",
    "    l.remove(l[0])\n",
    "    return(l)\n",
    "\n",
    "NrNbor(5)"
   ]
  },
  {
   "cell_type": "code",
   "execution_count": 9,
   "metadata": {},
   "outputs": [
    {
     "data": {
      "text/latex": [
       "Quantum object: dims = [[2], [2]], shape = (2, 2), type = oper, isherm = True\\begin{equation*}\\left(\\begin{array}{*{11}c}1.0 & 0.0\\\\0.0 & 1.0\\\\\\end{array}\\right)\\end{equation*}"
      ],
      "text/plain": [
       "Quantum object: dims = [[2], [2]], shape = (2, 2), type = oper, isherm = True\n",
       "Qobj data =\n",
       "[[1. 0.]\n",
       " [0. 1.]]"
      ]
     },
     "execution_count": 9,
     "metadata": {},
     "output_type": "execute_result"
    }
   ],
   "source": [
    "def ldestroy(N):\n",
    "    a = basis(N).dag()*create(N)*basis(N)\n",
    "    return(a)\n",
    "\n",
    "b = create(2)*destroy(2)+destroy(2)*create(2)\n",
    "b"
   ]
  },
  {
   "cell_type": "code",
   "execution_count": 8,
   "metadata": {},
   "outputs": [
    {
     "ename": "SyntaxError",
     "evalue": "invalid syntax (<ipython-input-8-1211cae2f09d>, line 2)",
     "output_type": "error",
     "traceback": [
      "\u001b[0;36m  File \u001b[0;32m\"<ipython-input-8-1211cae2f09d>\"\u001b[0;36m, line \u001b[0;32m2\u001b[0m\n\u001b[0;31m    -J*\u001b[0m\n\u001b[0m       ^\u001b[0m\n\u001b[0;31mSyntaxError\u001b[0m\u001b[0;31m:\u001b[0m invalid syntax\n"
     ]
    }
   ],
   "source": [
    "def BHHam(Sites,J=1,U=2,V=0,mu=1):\n",
    "    -J*"
   ]
  }
 ],
 "metadata": {
  "kernelspec": {
   "display_name": "Python 3",
   "language": "python",
   "name": "python3"
  },
  "language_info": {
   "codemirror_mode": {
    "name": "ipython",
    "version": 3
   },
   "file_extension": ".py",
   "mimetype": "text/x-python",
   "name": "python",
   "nbconvert_exporter": "python",
   "pygments_lexer": "ipython3",
   "version": "3.7.3"
  }
 },
 "nbformat": 4,
 "nbformat_minor": 2
}
